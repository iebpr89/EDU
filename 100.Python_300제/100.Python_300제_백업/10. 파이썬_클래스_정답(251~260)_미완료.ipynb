{
 "cells": [
  {
   "cell_type": "markdown",
   "id": "b481d8d2",
   "metadata": {},
   "source": [
    "\n",
    "### 파이썬 클래스는 타입을 만들어내는 도구입니다. int, float, str과 같이 여러분의 새로운 타입을 만들 수 있습니다."
   ]
  },
  {
   "cell_type": "markdown",
   "id": "cc799c25",
   "metadata": {},
   "source": [
    "#### 251 클래스, 객체, 인스턴스\n",
    "클래스, 객체, 인스턴스에 대해 설명해봅시다."
   ]
  },
  {
   "cell_type": "code",
   "execution_count": null,
   "id": "5fafc030",
   "metadata": {},
   "outputs": [],
   "source": []
  },
  {
   "cell_type": "markdown",
   "id": "00d410e8",
   "metadata": {},
   "source": [
    "#### 252 클래스 정의\n",
    "비어있는 사람 (Human) 클래스를 \"정의\" 해보세요."
   ]
  },
  {
   "cell_type": "code",
   "execution_count": 1,
   "id": "45a15894",
   "metadata": {},
   "outputs": [],
   "source": [
    "class Human:\n",
    "    pass\n"
   ]
  },
  {
   "cell_type": "markdown",
   "id": "35d02fdc",
   "metadata": {},
   "source": [
    "#### 253 인스턴스 생성\n",
    "사람 (Human) 클래스의 인스턴스를 \"생성\" 하고 이를 areum 변수로 바인딩해보세요."
   ]
  },
  {
   "cell_type": "code",
   "execution_count": 2,
   "id": "f154ebb6",
   "metadata": {},
   "outputs": [],
   "source": [
    "class Human:\n",
    "    pass\n",
    "\n",
    "areum = Human()"
   ]
  },
  {
   "cell_type": "markdown",
   "id": "72327e11",
   "metadata": {},
   "source": [
    "#### 254 클래스 생성자-1\n",
    "사람 (Human) 클래스에 \"응애응애\"를 출력하는 생성자를 추가하세요."
   ]
  },
  {
   "cell_type": "code",
   "execution_count": 5,
   "id": "d4dd8fb8",
   "metadata": {},
   "outputs": [
    {
     "name": "stdout",
     "output_type": "stream",
     "text": [
      "응애응애\n"
     ]
    }
   ],
   "source": [
    "class Human:\n",
    "    def __init__(self):\n",
    "        print(\"응애응애\")\n",
    "\n",
    "areum = Human()\n"
   ]
  },
  {
   "cell_type": "markdown",
   "id": "18a38676",
   "metadata": {},
   "source": [
    "#### 255 클래스 생성자-2\n",
    "사람 (Human) 클래스에 (이름, 나이, 성별)을 받는 생성자를 추가하세요."
   ]
  },
  {
   "cell_type": "code",
   "execution_count": 13,
   "id": "b0c4dbeb",
   "metadata": {},
   "outputs": [],
   "source": [
    "class Human:\n",
    "    def __init__(self, name, age, sex):\n",
    "        self.name = name\n",
    "        self.age = age\n",
    "        self.sex = sex\n",
    "\n",
    "areum = Human(\"이름\", 25, \"여자\")"
   ]
  },
  {
   "cell_type": "markdown",
   "id": "f5fd9152",
   "metadata": {},
   "source": [
    "#### 256 인스턴스 속성에 접근\n",
    "255에서 생성한 인스턴스의 이름, 나이, 성별을 출력하세요. 인스턴스 변수에 접근하여 값을 출력하면 됩니다."
   ]
  },
  {
   "cell_type": "code",
   "execution_count": 14,
   "id": "bdca6b37",
   "metadata": {},
   "outputs": [
    {
     "name": "stdout",
     "output_type": "stream",
     "text": [
      "이름\n",
      "25\n",
      "여자\n"
     ]
    }
   ],
   "source": [
    "# class Human:\n",
    "#     def __init__(self, name, age, sex):\n",
    "#         self.name = name\n",
    "#         self.age = age\n",
    "#         self.sex = sex\n",
    "\n",
    "# areum = Human(\"이름\", 25, \"여자\")\n",
    "print(areum.name)\n",
    "print(areum.age)\n",
    "print(areum.sex)"
   ]
  },
  {
   "cell_type": "markdown",
   "id": "7d265a61",
   "metadata": {},
   "source": [
    "#### 257 클래스 메소드 - 1\n",
    "사람 (Human) 클래스에서 이름, 나이, 성별을 출력하는 who() 메소드를 추가하세요.\n"
   ]
  },
  {
   "cell_type": "code",
   "execution_count": 23,
   "id": "d546942a",
   "metadata": {},
   "outputs": [
    {
     "name": "stdout",
     "output_type": "stream",
     "text": [
      "이름\n",
      "25\n",
      "여자\n"
     ]
    }
   ],
   "source": [
    "class Human:\n",
    "    def __init__(self, name, age, sex):\n",
    "        self.name = name\n",
    "        self.age = age\n",
    "        self.sex = sex\n",
    "        \n",
    "    def who(self):\n",
    "        print(self.name)\n",
    "        print(self.age)\n",
    "        print(self.sex)\n",
    "\n",
    "areum = Human(\"이름\", 25, \"여자\")\n",
    "areum.who()"
   ]
  },
  {
   "cell_type": "markdown",
   "id": "c9e94387",
   "metadata": {},
   "source": [
    "#### 258 클래스 메소드 - 2\n",
    "사람 (Human) 클래스에 (이름, 나이, 성별)을 받는 setInfo 메소드를 추가하세요."
   ]
  },
  {
   "cell_type": "code",
   "execution_count": 26,
   "id": "efa091f8",
   "metadata": {},
   "outputs": [
    {
     "name": "stdout",
     "output_type": "stream",
     "text": [
      "모름\n",
      "0\n",
      "모름\n"
     ]
    }
   ],
   "source": [
    "class Human:\n",
    "    def __init__(self, name, age, sex):\n",
    "        self.name = name\n",
    "        self.age = age\n",
    "        self.sex = sex\n",
    "        \n",
    "    def setInfo(self, x,y,z):\n",
    "        print(self.name)\n",
    "        print(self.age)\n",
    "        print(self.sex)\n",
    "\n",
    "areum = Human(\"모름\", 0, \"모름\")\n",
    "areum.setInfo(\"아름\", 25, \"여자\")"
   ]
  },
  {
   "cell_type": "markdown",
   "id": "8cabe197",
   "metadata": {},
   "source": [
    "#### 259 클래스 소멸자\n",
    "사람 (human) 클래스에 \"나의 죽음을 알리지 말라\"를 출력하는 소멸자를 추가하세요."
   ]
  },
  {
   "cell_type": "code",
   "execution_count": 1,
   "id": "cd65cf20",
   "metadata": {},
   "outputs": [
    {
     "name": "stdout",
     "output_type": "stream",
     "text": [
      "나의 죽음을 알리지 말라\n"
     ]
    }
   ],
   "source": [
    "class Human:\n",
    "    def __init__(self, name, age, sex):\n",
    "        self.name = name\n",
    "        self.age = age\n",
    "        self.sex = sex\n",
    "        \n",
    "    def setInfo(self, x,y,z):\n",
    "        print(self.name)\n",
    "        print(self.age)\n",
    "        print(self.sex)\n",
    "        \n",
    "    def __del__(self):\n",
    "        del self.name \n",
    "        del self.age\n",
    "        del self.sex\n",
    "        print('나의 죽음을 알리지 말라')\n",
    "        \n",
    "areum = Human(\"아름\", 25, \"여자\")\n",
    "del areum\n"
   ]
  },
  {
   "cell_type": "markdown",
   "id": "5fd7c3bb",
   "metadata": {},
   "source": [
    "#### 260 에러의 원인\n",
    "아래와 같은 에러가 발생한 원인에 대해 설명하세요.\n",
    "\n",
    "> class OMG : \n",
    ">>     def print() :\n",
    ">>         print(\"Oh my god\")\n",
    "\n",
    "> myStock = OMG()\n",
    "> myStock.print()\n",
    "> TypeError Traceback (most recent call last)\n",
    "> <ipython-input-233-c85c04535b22> in <module>()\n",
    ">> ----> myStock.print()\n",
    "\n",
    "> TypeError: print() takes 0 positional arguments but 1 was given"
   ]
  },
  {
   "cell_type": "code",
   "execution_count": 2,
   "id": "5e5b2a69",
   "metadata": {},
   "outputs": [
    {
     "name": "stdout",
     "output_type": "stream",
     "text": [
      "Oh my god\n"
     ]
    }
   ],
   "source": [
    "class OMG :\n",
    "    def __init__(self) :\n",
    "        pass\n",
    "        \n",
    "    def print(self) :\n",
    "        print(\"Oh my god\")\n",
    "\n",
    "\n",
    "mystock = OMG()\n",
    "mystock.print()      # OMG.print(mystock)\n"
   ]
  },
  {
   "cell_type": "markdown",
   "id": "28cd8342",
   "metadata": {},
   "source": [
    "#### 261 Stock 클래스 생성\n",
    "주식 종목에 대한 정보를 저장하는 Stock 클래스를 정의해보세요. 클래스는 속성과 메서드를 갖고 있지 않습니다."
   ]
  },
  {
   "cell_type": "code",
   "execution_count": 3,
   "id": "924553ff",
   "metadata": {},
   "outputs": [],
   "source": [
    "class Stock:\n",
    "    pass"
   ]
  },
  {
   "cell_type": "markdown",
   "id": "de312537",
   "metadata": {},
   "source": [
    "#### 262 생성자\n",
    "Stock 클래스의 객체가 생성될 때 종목명과 종목코드를 입력 받을 수 있도록 생성자를 정의해보세요\n",
    "- 삼성 = Stock(\"삼성전자\", \"005930\")."
   ]
  },
  {
   "cell_type": "code",
   "execution_count": 4,
   "id": "b8dc6834",
   "metadata": {},
   "outputs": [
    {
     "name": "stdout",
     "output_type": "stream",
     "text": [
      "삼성전자\n",
      "005930\n"
     ]
    }
   ],
   "source": [
    "class Stock:\n",
    "    def __init__(self, name, code):\n",
    "        self.name = name\n",
    "        self.code = code\n",
    "\n",
    "삼성 = Stock(\"삼성전자\", \"005930\")\n",
    "print(삼성.name)\n",
    "print(삼성.code)"
   ]
  },
  {
   "cell_type": "markdown",
   "id": "c411bb39",
   "metadata": {},
   "source": [
    "#### 263 메서드\n",
    "객체에 종목명을 입력할 수 있는 set_name 메서드를 추가해보세요.\n",
    "- a = Stock(None, None)\n",
    "- a.set_name(\"삼성전자\")"
   ]
  },
  {
   "cell_type": "code",
   "execution_count": 5,
   "id": "732c96fa",
   "metadata": {},
   "outputs": [
    {
     "name": "stdout",
     "output_type": "stream",
     "text": [
      "삼성전자\n"
     ]
    }
   ],
   "source": [
    "class Stock:\n",
    "    def __init__(self, name, code):\n",
    "        self.name = name\n",
    "        self.code = code\n",
    "\n",
    "    def set_name(self, name):\n",
    "        self.name = name\n",
    "\n",
    "a = Stock(None, None)\n",
    "a.set_name(\"삼성전자\")  # Stock.set_name(a, \"삼성전자\")\n",
    "print(a.name)"
   ]
  },
  {
   "cell_type": "markdown",
   "id": "f50e0c17",
   "metadata": {},
   "source": [
    "#### 264 메서드\n",
    "객체에 종목코드를 입력할 수 있는 set_code 메서드를 추가해보세요.\n",
    "- a = Stock(None, None)\n",
    "- a.set_code(\"005930\")"
   ]
  },
  {
   "cell_type": "code",
   "execution_count": 6,
   "id": "aea5035d",
   "metadata": {},
   "outputs": [
    {
     "name": "stdout",
     "output_type": "stream",
     "text": [
      "005930\n"
     ]
    }
   ],
   "source": [
    "class Stock:\n",
    "    def __init__(self, name, code):\n",
    "        self.name = name\n",
    "        self.code = code\n",
    "\n",
    "    def set_name(self, name):\n",
    "        self.name = name\n",
    "\n",
    "    def set_code(self, code):\n",
    "        self.code = code\n",
    "\n",
    "a = Stock(None, None)\n",
    "a.set_code(\"005930\")\n",
    "print(a.code)"
   ]
  },
  {
   "cell_type": "markdown",
   "id": "6e4066d2",
   "metadata": {},
   "source": [
    "#### 265 메서드\n",
    "종목명과 종목코드를 리턴하는 get_name, get_code 메서드를 추가하세요. 해당 메서드를 사용하여 종목명과 종목코드를 얻고 이를 출력해보세요.\n",
    "\n",
    "- 삼성 = Stock(\"삼성전자\", \"005930\")"
   ]
  },
  {
   "cell_type": "code",
   "execution_count": 7,
   "id": "87b8f1a9",
   "metadata": {},
   "outputs": [
    {
     "name": "stdout",
     "output_type": "stream",
     "text": [
      "삼성전자\n",
      "005930\n",
      "삼성전자\n",
      "005930\n"
     ]
    }
   ],
   "source": [
    "class Stock:\n",
    "    def __init__(self, name, code):\n",
    "        self.name = name\n",
    "        self.code = code\n",
    "\n",
    "    def set_name(self, name):\n",
    "        self.name = name\n",
    "\n",
    "    def set_code(self, code):\n",
    "        self.code = code\n",
    "\n",
    "    def get_name(self):\n",
    "        return self.name\n",
    "\n",
    "    def get_code(self):\n",
    "        return self.code\n",
    "\n",
    "삼성 = Stock(\"삼성전자\", \"005930\")\n",
    "print(삼성.name)\n",
    "print(삼성.code)\n",
    "print(삼성.get_name())\n",
    "print(삼성.get_code())"
   ]
  },
  {
   "cell_type": "markdown",
   "id": "3cf842fc",
   "metadata": {},
   "source": [
    "#### 266 객체의 속성값 업데이트\n",
    "생성자에서 종목명, 종목코드, PER, PBR, 배당수익률을 입력 받을 수 있도록 생성자를 수정하세요. PER, PBR, 배당수익률은 float 타입입니다."
   ]
  },
  {
   "cell_type": "code",
   "execution_count": 8,
   "id": "dc96999b",
   "metadata": {},
   "outputs": [],
   "source": [
    "class Stock:\n",
    "    def __init__(self, name, code, per, pbr, 배당수익률):\n",
    "        self.name = name\n",
    "        self.code = code\n",
    "        self.per = per\n",
    "        self.pbr = pbr\n",
    "        self.배당수익률 = 배당수익률\n",
    "\n",
    "    def set_name(self, name):\n",
    "        self.name = name\n",
    "\n",
    "    def set_code(self, code):\n",
    "        self.code = code\n",
    "\n",
    "    def get_name(self):\n",
    "        return self.name\n",
    "\n",
    "    def get_code(self):\n",
    "        return self.code"
   ]
  },
  {
   "cell_type": "markdown",
   "id": "224672b1",
   "metadata": {},
   "source": [
    "#### 267 객체 생성\n",
    "266번에서 정의한 생성자를 통해 다음 정보를 갖는 객체를 생성해보세요.\n",
    "\n",
    "\n",
    "- 항목 |정보\n",
    "- 종목명 | 삼성전자\n",
    "- 종목코드 | 005930\n",
    "- PER\t| 15.79\n",
    "- PBR\t| 1.33\n",
    "- 배당수익률 |\t2.83"
   ]
  },
  {
   "cell_type": "code",
   "execution_count": 9,
   "id": "18021e55",
   "metadata": {},
   "outputs": [
    {
     "name": "stdout",
     "output_type": "stream",
     "text": [
      "2.83\n"
     ]
    }
   ],
   "source": [
    "삼성 = Stock(\"삼성전자\", \"005930\", 15.79, 1.33, 2.83)\n",
    "print(삼성.배당수익률)"
   ]
  },
  {
   "cell_type": "markdown",
   "id": "1749a819",
   "metadata": {},
   "source": [
    "#### 218. 두 개의 숫자를 입력받아 두 수의 합을 출력하는 print_sum 함수를 정의하라."
   ]
  },
  {
   "cell_type": "code",
   "execution_count": null,
   "id": "162c8cac",
   "metadata": {},
   "outputs": [],
   "source": []
  },
  {
   "cell_type": "markdown",
   "id": "871bece9",
   "metadata": {},
   "source": [
    "#### 219. 두 개의 숫자를 입력받아 합/차/곱/나눗셈을 출력하는 print_arithmetic_operation 함수를 작성하라."
   ]
  },
  {
   "cell_type": "code",
   "execution_count": null,
   "id": "37f676b7",
   "metadata": {},
   "outputs": [],
   "source": []
  },
  {
   "cell_type": "markdown",
   "id": "afa2521d",
   "metadata": {},
   "source": [
    "#### 220. 세 개의 숫자를 입력받아 가장 큰수를 출력하는 print_max 함수를 정의하라. 단 if 문을 사용해서 수를 비교하라."
   ]
  },
  {
   "cell_type": "code",
   "execution_count": null,
   "id": "a31aea58",
   "metadata": {},
   "outputs": [],
   "source": []
  },
  {
   "cell_type": "markdown",
   "id": "d4684c0f",
   "metadata": {},
   "source": [
    "#### 221. 입력된 문자열을 역순으로 출력하는 print_reverse 함수를 정의하라.\n",
    "\n",
    "> print_reverse(\"python\")\n",
    "\n",
    "> nohtyp"
   ]
  },
  {
   "cell_type": "markdown",
   "id": "84f267b5",
   "metadata": {},
   "source": [
    "#### 222. 성적 리스트를 입력 받아 평균을 출력하는 print_score 함수를 정의하라.\n",
    "\n",
    "> print_score ([1, 2, 3])\n",
    "\n",
    "> 2.0"
   ]
  },
  {
   "cell_type": "code",
   "execution_count": null,
   "id": "967a1353",
   "metadata": {},
   "outputs": [],
   "source": []
  },
  {
   "cell_type": "markdown",
   "id": "84fec643",
   "metadata": {},
   "source": [
    "#### 223. 하나의 리스트를 입력받아 짝수만 화면에 출력하는 print_even 함수를 정의하라.\n",
    "\n",
    "> print_even ([1, 3, 2, 10, 12, 11, 15])\n",
    "\n",
    "> 2\n",
    "\n",
    "> 10\n",
    "\n",
    "> 12"
   ]
  },
  {
   "cell_type": "code",
   "execution_count": null,
   "id": "b4e0bfe2",
   "metadata": {},
   "outputs": [],
   "source": []
  },
  {
   "cell_type": "markdown",
   "id": "3b08d467",
   "metadata": {},
   "source": [
    "#### 224. 하나의 딕셔너리를 입력받아 딕셔너리의 key 값을 화면에 출력하는 print_keys 함수를 정의하라.\n",
    "\n",
    "> print_keys ({\"이름\":\"김말똥\", \"나이\":30, \"성별\":0})\n",
    "\n",
    "> 이름\n",
    "\n",
    "> 나이\n",
    "\n",
    "> 성별"
   ]
  },
  {
   "cell_type": "code",
   "execution_count": null,
   "id": "b8377a37",
   "metadata": {},
   "outputs": [],
   "source": []
  },
  {
   "cell_type": "markdown",
   "id": "530f981b",
   "metadata": {},
   "source": [
    "#### 225. my_dict에는 날짜를 키값으로 OHLC가 리스트로 저장돼 있다.\n",
    "\n",
    "> my_dict = {\"10/26\" : [100, 130, 100, 100], \"10/27\" : [10, 12, 10, 11]}\n",
    "\n",
    "#### my_dict와 날짜 키값을 입력받아 OHLC 리스트를 출력하는 print_value_by_key 함수를 정의하라.\n",
    "\n",
    "> print_value_by_key  (my_dict, \"10/26\")\n",
    "\n",
    "> [100, 130, 100, 100]"
   ]
  },
  {
   "cell_type": "code",
   "execution_count": null,
   "id": "a19b6d7f",
   "metadata": {},
   "outputs": [],
   "source": []
  },
  {
   "cell_type": "markdown",
   "id": "31a913c6",
   "metadata": {},
   "source": [
    "#### 226. 입력 문자열을 한 줄에 다섯글자씩 출력하는 print_5xn(string) 함수를 작성하라.\n",
    "\n",
    "> print_5xn(\"아이엠어보이유알어걸\")\n",
    "\n",
    "> 아이엠어보\n",
    "\n",
    "> 이유알어걸"
   ]
  },
  {
   "cell_type": "code",
   "execution_count": null,
   "id": "aa5e2b9c",
   "metadata": {},
   "outputs": [],
   "source": []
  },
  {
   "cell_type": "markdown",
   "id": "efae0457",
   "metadata": {},
   "source": [
    "#### 227. 문자열과 한줄에 출력될 글자 수를 입력을 받아 한 줄에 입력된 글자 수만큼 출력하는 print_mxn(string) 함수를 작성하라.\n",
    "\n",
    "> printmxn(\"아이엠어보이유알어걸\", 3)\n",
    "\n",
    "> 아이엠\n",
    "\n",
    "> 어보이\n",
    "\n",
    "> 유알어\n",
    "\n",
    "> 걸"
   ]
  },
  {
   "cell_type": "code",
   "execution_count": null,
   "id": "e308e03d",
   "metadata": {},
   "outputs": [],
   "source": []
  },
  {
   "cell_type": "markdown",
   "id": "e456b3e0",
   "metadata": {},
   "source": [
    "#### 228. 연봉을 입력받아 월급을 계산하는 calc_monthly_salary(annual_salary) 함수를 정의하라. 회사는 연봉을 12개월로 나누어 분할 지급하며, 이 때 1원 미만은 버림한다.\n",
    "\n",
    "> calc_monthly_salary(12000000)\n",
    "\n",
    "> 1000000"
   ]
  },
  {
   "cell_type": "code",
   "execution_count": null,
   "id": "aafe5ba3",
   "metadata": {},
   "outputs": [],
   "source": []
  },
  {
   "cell_type": "markdown",
   "id": "63e3e838",
   "metadata": {},
   "source": [
    "#### 229. 아래 코드의 실행 결과를 예측하라.\n",
    "\n",
    "> def my_print (a, b) :\n",
    ">>     print(\"왼쪽:\", a)\n",
    ">>     print(\"오른쪽:\", b)\n",
    "\n",
    "> my_print(a=100, b=200)"
   ]
  },
  {
   "cell_type": "code",
   "execution_count": null,
   "id": "1e95005f",
   "metadata": {},
   "outputs": [],
   "source": []
  },
  {
   "cell_type": "markdown",
   "id": "c2f9c27f",
   "metadata": {},
   "source": [
    "#### 230. 아래 코드의 실행 결과를 예측하라.\n",
    "\n",
    "> def my_print (a, b) :\n",
    ">>     print(\"왼쪽:\", a)\n",
    ">>     print(\"오른쪽:\", b)\n",
    "\n",
    "> my_print(b=100, a=200)"
   ]
  },
  {
   "cell_type": "code",
   "execution_count": null,
   "id": "1d5f657e",
   "metadata": {},
   "outputs": [],
   "source": []
  },
  {
   "cell_type": "markdown",
   "id": "6216cf8d",
   "metadata": {},
   "source": [
    "#### 231. 아래 코드를 실행한 결과를 예상하라.\n",
    "\n",
    "> def n_plus_1 (n) :\n",
    ">>     result = n + 1\n",
    "\n",
    "> n_plus_1(3)\n",
    "\n",
    "> print (result)"
   ]
  },
  {
   "cell_type": "code",
   "execution_count": null,
   "id": "15b1b7fe",
   "metadata": {},
   "outputs": [],
   "source": []
  },
  {
   "cell_type": "markdown",
   "id": "b7ccdd6f",
   "metadata": {},
   "source": [
    "#### 232. 문자열 하나를 입력받아 인터넷 주소를 반환하는 make_url 함수를 정의하라.\n",
    "\n",
    "> make_url(\"naver\")\n",
    "\n",
    "> www.naver.com"
   ]
  },
  {
   "cell_type": "code",
   "execution_count": null,
   "id": "4e08cc6f",
   "metadata": {},
   "outputs": [],
   "source": []
  },
  {
   "cell_type": "markdown",
   "id": "771ea185",
   "metadata": {},
   "source": [
    "#### 233. 문자열을 입력받아 각 문자들로 구성된 리스트로 반환하는 make_list 함수를 정의하라.\n",
    "\n",
    "> make_list(\"abcd\")\n",
    "\n",
    "> ['a', 'b', 'c', 'd']"
   ]
  },
  {
   "cell_type": "code",
   "execution_count": null,
   "id": "b35bc0aa",
   "metadata": {},
   "outputs": [],
   "source": []
  },
  {
   "cell_type": "markdown",
   "id": "f56054ed",
   "metadata": {},
   "source": [
    "#### 234. 숫자로 구성된 하나의 리스트를 입력받아, 짝수들을 추출하여 리스트로 반환하는 pickup_even 함수를 구현하라.\n",
    "\n",
    "> pickup_even([3, 4, 5, 6, 7, 8])\n",
    "\n",
    "> [4, 6, 8]"
   ]
  },
  {
   "cell_type": "code",
   "execution_count": null,
   "id": "c66b716b",
   "metadata": {},
   "outputs": [],
   "source": []
  },
  {
   "cell_type": "markdown",
   "id": "ff15684c",
   "metadata": {},
   "source": [
    "#### 235. 콤마가 포함된 문자열 숫자를 입력받아 정수로 변환하는 convert_int 함수를 정의하라.\n",
    "\n",
    "> convert_int(\"1,234,567\")\n",
    "\n",
    "> 1234567"
   ]
  },
  {
   "cell_type": "code",
   "execution_count": null,
   "id": "a77d8fdc",
   "metadata": {},
   "outputs": [],
   "source": []
  },
  {
   "cell_type": "markdown",
   "id": "320ca0da",
   "metadata": {},
   "source": [
    "#### 236. 아래 코드의 실행 결과를 예측하라.\n",
    "\n",
    "> def 함수(num) :\n",
    ">>     return num + 4\n",
    "\n",
    "> a = 함수(10)\n",
    "\n",
    "> b = 함수(a)\n",
    "\n",
    "> c = 함수(b)\n",
    "\n",
    "> print(c)"
   ]
  },
  {
   "cell_type": "code",
   "execution_count": null,
   "id": "7644ca77",
   "metadata": {},
   "outputs": [],
   "source": []
  },
  {
   "cell_type": "markdown",
   "id": "1196b5e2",
   "metadata": {},
   "source": [
    "#### 237. 아래 코드의 실행 결과를 예측하라.\n",
    "\n",
    "> def 함수(num) :\n",
    ">>     return num + 4\n",
    "\n",
    "> c = 함수(함수(함수(10)))\n",
    "\n",
    "> print(c)"
   ]
  },
  {
   "cell_type": "code",
   "execution_count": null,
   "id": "1928d332",
   "metadata": {},
   "outputs": [],
   "source": []
  },
  {
   "cell_type": "markdown",
   "id": "189e5c3a",
   "metadata": {},
   "source": [
    "#### 238. 아래 코드의 실행 결과를 예측하라.\n",
    "\n",
    "> def 함수1(num) :\n",
    ">>     return num + 4\n",
    "\n",
    "> def 함수2(num) :\n",
    ">>     return num * 10\n",
    "\n",
    "> a = 함수1(10)\n",
    "\n",
    "> c = 함수2(a)\n",
    "\n",
    "> print(c)"
   ]
  },
  {
   "cell_type": "markdown",
   "id": "1d5eea3a",
   "metadata": {},
   "source": [
    "#### 239. 아래 코드의 실행 결과를 예측하라.\n",
    "\n",
    "> def 함수1(num) :\n",
    ">>     return num + 4\n",
    "\n",
    "> def 함수2(num) :\n",
    ">>     num = num + 2\n",
    ">>     return 함수1(num)\n",
    "\n",
    "> c = 함수2(10)\n",
    "\n",
    "> print(c)"
   ]
  },
  {
   "cell_type": "code",
   "execution_count": null,
   "id": "dcbea886",
   "metadata": {},
   "outputs": [],
   "source": []
  },
  {
   "cell_type": "markdown",
   "id": "dea2a767",
   "metadata": {},
   "source": [
    "#### 240. 아래 코드의 실행 결과를 예측하라.\n",
    "\n",
    "> def 함수0(num) :\n",
    ">>     return num * 2\n",
    "\n",
    "> def 함수1(num) :\n",
    ">>     return 함수0(num + 2)\n",
    "\n",
    "> def 함수2(num) :\n",
    ">>     num = num + 10\n",
    ">>     return 함수1(num)\n",
    "\n",
    "> c = 함수2(2)\n",
    "\n",
    "> print(c)"
   ]
  },
  {
   "cell_type": "code",
   "execution_count": null,
   "id": "56ebeefe",
   "metadata": {},
   "outputs": [],
   "source": []
  }
 ],
 "metadata": {
  "kernelspec": {
   "display_name": "Python 3 (ipykernel)",
   "language": "python",
   "name": "python3"
  },
  "language_info": {
   "codemirror_mode": {
    "name": "ipython",
    "version": 3
   },
   "file_extension": ".py",
   "mimetype": "text/x-python",
   "name": "python",
   "nbconvert_exporter": "python",
   "pygments_lexer": "ipython3",
   "version": "3.9.7"
  }
 },
 "nbformat": 4,
 "nbformat_minor": 5
}
