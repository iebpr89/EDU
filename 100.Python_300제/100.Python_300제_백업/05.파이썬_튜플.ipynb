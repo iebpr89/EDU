{
 "cells": [
  {
   "cell_type": "markdown",
   "id": "b481d8d2",
   "metadata": {},
   "source": [
    "\n",
    "### 파이썬 문자열은 인덱싱, 슬라이싱 기능과 다양한 메서드를 제공합니다."
   ]
  },
  {
   "cell_type": "markdown",
   "id": "cc799c25",
   "metadata": {},
   "source": [
    "#### 071. my_variable 이름의 비어있는 튜플을 만들라."
   ]
  },
  {
   "cell_type": "code",
   "execution_count": null,
   "id": "ed6cba2f",
   "metadata": {},
   "outputs": [],
   "source": []
  },
  {
   "cell_type": "markdown",
   "id": "00d410e8",
   "metadata": {},
   "source": [
    "#### 072. 2016년 11월 영화 예매 순위 기준 top3는 다음과 같다. 영화 제목을 movie_rank 이름의 튜플에 저장하라. (순위 정보는 저장하지 않는다.)\n",
    "\n",
    "#### 순위\t영화\n",
    "- 1\t닥터 스트레인지\n",
    "- 2\t스플릿\n",
    "- 3\t럭키"
   ]
  },
  {
   "cell_type": "code",
   "execution_count": null,
   "id": "45a15894",
   "metadata": {},
   "outputs": [],
   "source": []
  },
  {
   "cell_type": "markdown",
   "id": "555a0e13",
   "metadata": {},
   "source": [
    "#### 073. 숫자 1 이 저장된 튜플을 생성하라."
   ]
  },
  {
   "cell_type": "code",
   "execution_count": null,
   "id": "6a4cf546",
   "metadata": {},
   "outputs": [],
   "source": []
  },
  {
   "cell_type": "markdown",
   "id": "5075b888",
   "metadata": {},
   "source": [
    "#### 074. 다음 코드를 실행해보고 오류가 발생하는 원인을 설명하라.\n",
    "\n",
    "- t = (1, 2, 3)\n",
    "- t[0] = 'a'\n",
    "#### Traceback (most recent call last):\n",
    "####   File \"<pyshell#46>\", line 1, in <module>\n",
    "####     t[0] = 'a'\n",
    "#### TypeError: 'tuple' object does not support item assignment"
   ]
  },
  {
   "cell_type": "code",
   "execution_count": null,
   "id": "837133fb",
   "metadata": {},
   "outputs": [],
   "source": []
  },
  {
   "cell_type": "markdown",
   "id": "18a38676",
   "metadata": {},
   "source": [
    "#### 065. interest 리스트에는 아래의 데이터가 바인딩되어 있다.\n",
    "\n",
    "- interest = ['삼성전자', 'LG전자', 'Naver']\n",
    "#### interest 리스트를 사용하여 아래와 같이 화면에 출력하라.\n",
    "\n",
    "- 출력 예시:삼성전자 Naver"
   ]
  },
  {
   "cell_type": "code",
   "execution_count": null,
   "id": "bdca6b37",
   "metadata": {},
   "outputs": [],
   "source": []
  },
  {
   "cell_type": "markdown",
   "id": "4ad56e16",
   "metadata": {},
   "source": [
    "#### 076. 변수 t에는 아래와 같은 값이 저장되어 있다. 변수 t가 ('A', 'b', 'c') 튜플을 가리키도록 수정 하라.\n",
    "\n",
    "t = ('a', 'b', 'c')"
   ]
  },
  {
   "cell_type": "code",
   "execution_count": null,
   "id": "d768bd61",
   "metadata": {},
   "outputs": [],
   "source": []
  },
  {
   "cell_type": "markdown",
   "id": "7d265a61",
   "metadata": {},
   "source": [
    "#### 077. 다음 튜플을 리스트로 변환하라.\n",
    "\n",
    "interest = ('삼성전자', 'LG전자', 'SK Hynix')"
   ]
  },
  {
   "cell_type": "code",
   "execution_count": null,
   "id": "d546942a",
   "metadata": {},
   "outputs": [],
   "source": []
  },
  {
   "cell_type": "markdown",
   "id": "c9e94387",
   "metadata": {},
   "source": [
    "#### 078. 다음 리스트를 튜플로 변경하라.\n",
    "\n",
    "interest = ['삼성전자', 'LG전자', 'SK Hynix']"
   ]
  },
  {
   "cell_type": "code",
   "execution_count": null,
   "id": "efa091f8",
   "metadata": {},
   "outputs": [],
   "source": []
  },
  {
   "cell_type": "markdown",
   "id": "8cabe197",
   "metadata": {},
   "source": [
    "#### 079. 튜플 언팩킹\n",
    "다음 코드의 실행 결과를 예상하라.\n",
    "\n",
    "- temp = ('apple', 'banana', 'cake')\n",
    "- a, b, c = temp\n",
    "- print(a, b, c)"
   ]
  },
  {
   "cell_type": "code",
   "execution_count": null,
   "id": "cd65cf20",
   "metadata": {},
   "outputs": [],
   "source": []
  },
  {
   "cell_type": "markdown",
   "id": "5fd7c3bb",
   "metadata": {},
   "source": [
    "#### 080. range 함수\n",
    "1 부터 99까지의 정수 중 짝수만 저장된 튜플을 생성하라.\n",
    "\n",
    "(2, 4, 6, 8 ... 98)"
   ]
  },
  {
   "cell_type": "code",
   "execution_count": null,
   "id": "5e5b2a69",
   "metadata": {},
   "outputs": [],
   "source": []
  }
 ],
 "metadata": {
  "kernelspec": {
   "display_name": "Python 3",
   "language": "python",
   "name": "python3"
  },
  "language_info": {
   "codemirror_mode": {
    "name": "ipython",
    "version": 3
   },
   "file_extension": ".py",
   "mimetype": "text/x-python",
   "name": "python",
   "nbconvert_exporter": "python",
   "pygments_lexer": "ipython3",
   "version": "3.8.8"
  }
 },
 "nbformat": 4,
 "nbformat_minor": 5
}
