{
 "cells": [
  {
   "cell_type": "markdown",
   "id": "b481d8d2",
   "metadata": {},
   "source": [
    "\n",
    "### 함수란 자주 사용하는 코드에 대한 이름표입니다. 변수가 어떤 값을 바인딩하는 것처럼 함수는 어떤 코드를 바인딩합니다."
   ]
  },
  {
   "cell_type": "markdown",
   "id": "cc799c25",
   "metadata": {},
   "source": [
    "#### 201. \"비트코인\" 문자열을 화면에 출력하는 print_coin() 함수를 정의하라."
   ]
  },
  {
   "cell_type": "code",
   "execution_count": null,
   "id": "5fafc030",
   "metadata": {},
   "outputs": [],
   "source": []
  },
  {
   "cell_type": "markdown",
   "id": "00d410e8",
   "metadata": {},
   "source": [
    "#### 202. 201번에서 정의한 함수를 호출하라."
   ]
  },
  {
   "cell_type": "code",
   "execution_count": null,
   "id": "45a15894",
   "metadata": {},
   "outputs": [],
   "source": []
  },
  {
   "cell_type": "markdown",
   "id": "35d02fdc",
   "metadata": {},
   "source": [
    "#### 203. 201번에서 정의한 print_coin 함수를 100번호출하라."
   ]
  },
  {
   "cell_type": "code",
   "execution_count": null,
   "id": "f154ebb6",
   "metadata": {},
   "outputs": [],
   "source": []
  },
  {
   "cell_type": "markdown",
   "id": "72327e11",
   "metadata": {},
   "source": [
    "#### 204. \"비트코인\" 문자열을 100번 화면에 출력하는 print_coins() 함수를 정의하라."
   ]
  },
  {
   "cell_type": "code",
   "execution_count": null,
   "id": "d4dd8fb8",
   "metadata": {},
   "outputs": [],
   "source": []
  },
  {
   "cell_type": "markdown",
   "id": "18a38676",
   "metadata": {},
   "source": [
    "#### 205. 아래의 에러가 발생하는 이유에 대해 설명하라.\n",
    "\n",
    "> hello()\n",
    "\n",
    "> def hello():\n",
    "\n",
    ">     print(\"Hi\")\n",
    "    \n",
    "- 실행 예\n",
    "\n",
    "NameError: name 'hello' is not defined"
   ]
  },
  {
   "cell_type": "code",
   "execution_count": null,
   "id": "b0c4dbeb",
   "metadata": {},
   "outputs": [],
   "source": []
  },
  {
   "cell_type": "markdown",
   "id": "f5fd9152",
   "metadata": {},
   "source": [
    "#### 206. 아래 코드의 실행 결과를 예측하라.\n",
    "\n",
    "def message() :\n",
    "    print(\"A\")\n",
    "    print(\"B\")\n",
    "\n",
    "message()\n",
    "print(\"C\")\n",
    "message()"
   ]
  },
  {
   "cell_type": "code",
   "execution_count": null,
   "id": "bdca6b37",
   "metadata": {},
   "outputs": [],
   "source": []
  },
  {
   "cell_type": "markdown",
   "id": "7d265a61",
   "metadata": {},
   "source": [
    "#### 207. 아래 코드의 실행 결과를 예측하라. (읽기 어려운 코드의 예입니다.)\n",
    "\n",
    "print(\"A\")\n",
    "\n",
    "def message() :\n",
    ">    print(\"B\")\n",
    "\n",
    "print(\"C\")\n",
    "message()"
   ]
  },
  {
   "cell_type": "code",
   "execution_count": null,
   "id": "d546942a",
   "metadata": {},
   "outputs": [],
   "source": []
  },
  {
   "cell_type": "markdown",
   "id": "c9e94387",
   "metadata": {},
   "source": [
    "#### 208. 아래 코드의 실행 결과를 예측하라. (읽기 어려운 코드의 예입니다.)\n",
    "\n",
    "> print(\"A\")\n",
    "\n",
    "> def message1() :\n",
    ">>    print(\"B\")\n",
    "\n",
    "> print(\"C\")\n",
    "\n",
    "> def message2() :\n",
    ">>    print(\"D\")\n",
    "\n",
    "> message1()\n",
    "\n",
    "> print(\"E\")\n",
    "\n",
    "> message2()"
   ]
  },
  {
   "cell_type": "code",
   "execution_count": null,
   "id": "efa091f8",
   "metadata": {},
   "outputs": [],
   "source": []
  },
  {
   "cell_type": "markdown",
   "id": "8cabe197",
   "metadata": {},
   "source": [
    "#### 209. 아래 코드의 실행 결과를 예측하라.\n",
    "\n",
    "> def message1():\n",
    ">>     print(\"A\")\n",
    "\n",
    "> def message2():\n",
    ">>     print(\"B\")\n",
    ">>     message1()\n",
    "\n",
    "> message2()"
   ]
  },
  {
   "cell_type": "code",
   "execution_count": null,
   "id": "cd65cf20",
   "metadata": {},
   "outputs": [],
   "source": []
  },
  {
   "cell_type": "markdown",
   "id": "5fd7c3bb",
   "metadata": {},
   "source": [
    "#### 210. 아래 코드의 실행 결과를 예측하라.\n",
    "\n",
    "> def message1():\n",
    ">>     print(\"A\")\n",
    "\n",
    "> def message2():\n",
    ">>     print(\"B\")\n",
    "\n",
    "> def message3():\n",
    ">>     for i in range (3) :\n",
    ">>>         message2()\n",
    ">>>         print(\"C\")\n",
    ">>     message1()\n",
    "\n",
    "> message3()"
   ]
  },
  {
   "cell_type": "code",
   "execution_count": null,
   "id": "5e5b2a69",
   "metadata": {},
   "outputs": [],
   "source": []
  },
  {
   "cell_type": "markdown",
   "id": "28cd8342",
   "metadata": {},
   "source": [
    "#### 211. 함수의 호출 결과를 예측하라.\n",
    "\n",
    "> def 함수(문자열) :\n",
    ">>     print(문자열)\n",
    "\n",
    "> 함수(\"안녕\")\n",
    "\n",
    "> 함수(\"Hi\")"
   ]
  },
  {
   "cell_type": "code",
   "execution_count": null,
   "id": "924553ff",
   "metadata": {},
   "outputs": [],
   "source": []
  },
  {
   "cell_type": "markdown",
   "id": "de312537",
   "metadata": {},
   "source": [
    "#### 212. 함수의 호출 결과를 예측하라.\n",
    "\n",
    "> def 함수(a, b) :\n",
    ">>     print(a + b)\n",
    "\n",
    "> 함수(3, 4)\n",
    "\n",
    "> 함수(7, 8)"
   ]
  },
  {
   "cell_type": "code",
   "execution_count": null,
   "id": "b8dc6834",
   "metadata": {},
   "outputs": [],
   "source": []
  },
  {
   "cell_type": "markdown",
   "id": "c411bb39",
   "metadata": {},
   "source": [
    "#### 213. 아래와 같은 에러가 발생하는 원인을 설명하라.\n",
    "\n",
    "> def 함수(문자열) :\n",
    ">>     print(문자열)\n",
    "\n",
    "> 함수()\n",
    "\n",
    "> TypeError: 함수() missing 1 required positional argument: '문자열'"
   ]
  },
  {
   "cell_type": "code",
   "execution_count": null,
   "id": "732c96fa",
   "metadata": {},
   "outputs": [],
   "source": []
  },
  {
   "cell_type": "markdown",
   "id": "f50e0c17",
   "metadata": {},
   "source": [
    "#### 214. 아래와 같은 에러가 발생하는 원인을 설명하라.\n",
    "\n",
    "> def 함수(a, b) :\n",
    ">>     print(a + b)\n",
    "\n",
    "> 함수(\"안녕\", 3)\n",
    "\n",
    "> TypeError: must be str, not int"
   ]
  },
  {
   "cell_type": "code",
   "execution_count": null,
   "id": "aea5035d",
   "metadata": {},
   "outputs": [],
   "source": []
  },
  {
   "cell_type": "markdown",
   "id": "6e4066d2",
   "metadata": {},
   "source": [
    "#### 215. 하나의 문자를 입력받아 문자열 끝에 \":D\" 스마일 문자열을 이어 붙여 출력하는 print_with_smile 함수를 정의하라."
   ]
  },
  {
   "cell_type": "code",
   "execution_count": null,
   "id": "87b8f1a9",
   "metadata": {},
   "outputs": [],
   "source": []
  },
  {
   "cell_type": "markdown",
   "id": "3cf842fc",
   "metadata": {},
   "source": [
    "#### 216. 215에서 정의한 함수를 호출하라. 파라미터는 \"안녕하세요\"로 입력하라.\n",
    "\n",
    " \n",
    "\n"
   ]
  },
  {
   "cell_type": "code",
   "execution_count": null,
   "id": "dc96999b",
   "metadata": {},
   "outputs": [],
   "source": []
  },
  {
   "cell_type": "markdown",
   "id": "224672b1",
   "metadata": {},
   "source": [
    "#### 217. 현재 가격을 입력 받아 상한가 (30%)를 출력하는 print_upper_price 함수를 정의하라."
   ]
  },
  {
   "cell_type": "code",
   "execution_count": null,
   "id": "18021e55",
   "metadata": {},
   "outputs": [],
   "source": []
  },
  {
   "cell_type": "markdown",
   "id": "1749a819",
   "metadata": {},
   "source": [
    "#### 218. 두 개의 숫자를 입력받아 두 수의 합을 출력하는 print_sum 함수를 정의하라."
   ]
  },
  {
   "cell_type": "code",
   "execution_count": null,
   "id": "162c8cac",
   "metadata": {},
   "outputs": [],
   "source": []
  },
  {
   "cell_type": "markdown",
   "id": "871bece9",
   "metadata": {},
   "source": [
    "#### 219. 두 개의 숫자를 입력받아 합/차/곱/나눗셈을 출력하는 print_arithmetic_operation 함수를 작성하라."
   ]
  },
  {
   "cell_type": "code",
   "execution_count": null,
   "id": "37f676b7",
   "metadata": {},
   "outputs": [],
   "source": []
  },
  {
   "cell_type": "markdown",
   "id": "afa2521d",
   "metadata": {},
   "source": [
    "#### 220. 세 개의 숫자를 입력받아 가장 큰수를 출력하는 print_max 함수를 정의하라. 단 if 문을 사용해서 수를 비교하라."
   ]
  },
  {
   "cell_type": "code",
   "execution_count": null,
   "id": "a31aea58",
   "metadata": {},
   "outputs": [],
   "source": []
  },
  {
   "cell_type": "markdown",
   "id": "d4684c0f",
   "metadata": {},
   "source": [
    "#### 221. 입력된 문자열을 역순으로 출력하는 print_reverse 함수를 정의하라.\n",
    "\n",
    "> print_reverse(\"python\")\n",
    "\n",
    "> nohtyp"
   ]
  },
  {
   "cell_type": "markdown",
   "id": "84f267b5",
   "metadata": {},
   "source": [
    "#### 222. 성적 리스트를 입력 받아 평균을 출력하는 print_score 함수를 정의하라.\n",
    "\n",
    "> print_score ([1, 2, 3])\n",
    "\n",
    "> 2.0"
   ]
  },
  {
   "cell_type": "code",
   "execution_count": null,
   "id": "967a1353",
   "metadata": {},
   "outputs": [],
   "source": []
  },
  {
   "cell_type": "markdown",
   "id": "84fec643",
   "metadata": {},
   "source": [
    "#### 223. 하나의 리스트를 입력받아 짝수만 화면에 출력하는 print_even 함수를 정의하라.\n",
    "\n",
    "> print_even ([1, 3, 2, 10, 12, 11, 15])\n",
    "\n",
    "> 2\n",
    "\n",
    "> 10\n",
    "\n",
    "> 12"
   ]
  },
  {
   "cell_type": "code",
   "execution_count": null,
   "id": "b4e0bfe2",
   "metadata": {},
   "outputs": [],
   "source": []
  },
  {
   "cell_type": "markdown",
   "id": "3b08d467",
   "metadata": {},
   "source": [
    "#### 224. 하나의 딕셔너리를 입력받아 딕셔너리의 key 값을 화면에 출력하는 print_keys 함수를 정의하라.\n",
    "\n",
    "> print_keys ({\"이름\":\"김말똥\", \"나이\":30, \"성별\":0})\n",
    "\n",
    "> 이름\n",
    "\n",
    "> 나이\n",
    "\n",
    "> 성별"
   ]
  },
  {
   "cell_type": "code",
   "execution_count": null,
   "id": "b8377a37",
   "metadata": {},
   "outputs": [],
   "source": []
  },
  {
   "cell_type": "markdown",
   "id": "530f981b",
   "metadata": {},
   "source": [
    "#### 225. my_dict에는 날짜를 키값으로 OHLC가 리스트로 저장돼 있다.\n",
    "\n",
    "> my_dict = {\"10/26\" : [100, 130, 100, 100], \"10/27\" : [10, 12, 10, 11]}\n",
    "\n",
    "#### my_dict와 날짜 키값을 입력받아 OHLC 리스트를 출력하는 print_value_by_key 함수를 정의하라.\n",
    "\n",
    "> print_value_by_key  (my_dict, \"10/26\")\n",
    "\n",
    "> [100, 130, 100, 100]"
   ]
  },
  {
   "cell_type": "code",
   "execution_count": null,
   "id": "a19b6d7f",
   "metadata": {},
   "outputs": [],
   "source": []
  },
  {
   "cell_type": "markdown",
   "id": "31a913c6",
   "metadata": {},
   "source": [
    "#### 226. 입력 문자열을 한 줄에 다섯글자씩 출력하는 print_5xn(string) 함수를 작성하라.\n",
    "\n",
    "> print_5xn(\"아이엠어보이유알어걸\")\n",
    "\n",
    "> 아이엠어보\n",
    "\n",
    "> 이유알어걸"
   ]
  },
  {
   "cell_type": "code",
   "execution_count": null,
   "id": "aa5e2b9c",
   "metadata": {},
   "outputs": [],
   "source": []
  },
  {
   "cell_type": "markdown",
   "id": "efae0457",
   "metadata": {},
   "source": [
    "#### 227. 문자열과 한줄에 출력될 글자 수를 입력을 받아 한 줄에 입력된 글자 수만큼 출력하는 print_mxn(string) 함수를 작성하라.\n",
    "\n",
    "> printmxn(\"아이엠어보이유알어걸\", 3)\n",
    "\n",
    "> 아이엠\n",
    "\n",
    "> 어보이\n",
    "\n",
    "> 유알어\n",
    "\n",
    "> 걸"
   ]
  },
  {
   "cell_type": "code",
   "execution_count": null,
   "id": "e308e03d",
   "metadata": {},
   "outputs": [],
   "source": []
  },
  {
   "cell_type": "markdown",
   "id": "e456b3e0",
   "metadata": {},
   "source": [
    "#### 228. 연봉을 입력받아 월급을 계산하는 calc_monthly_salary(annual_salary) 함수를 정의하라. 회사는 연봉을 12개월로 나누어 분할 지급하며, 이 때 1원 미만은 버림한다.\n",
    "\n",
    "> calc_monthly_salary(12000000)\n",
    "\n",
    "> 1000000"
   ]
  },
  {
   "cell_type": "code",
   "execution_count": null,
   "id": "aafe5ba3",
   "metadata": {},
   "outputs": [],
   "source": []
  },
  {
   "cell_type": "markdown",
   "id": "63e3e838",
   "metadata": {},
   "source": [
    "#### 229. 아래 코드의 실행 결과를 예측하라.\n",
    "\n",
    "> def my_print (a, b) :\n",
    ">>     print(\"왼쪽:\", a)\n",
    ">>     print(\"오른쪽:\", b)\n",
    "\n",
    "> my_print(a=100, b=200)"
   ]
  },
  {
   "cell_type": "code",
   "execution_count": null,
   "id": "1e95005f",
   "metadata": {},
   "outputs": [],
   "source": []
  },
  {
   "cell_type": "markdown",
   "id": "c2f9c27f",
   "metadata": {},
   "source": [
    "#### 230. 아래 코드의 실행 결과를 예측하라.\n",
    "\n",
    "> def my_print (a, b) :\n",
    ">>     print(\"왼쪽:\", a)\n",
    ">>     print(\"오른쪽:\", b)\n",
    "\n",
    "> my_print(b=100, a=200)"
   ]
  },
  {
   "cell_type": "code",
   "execution_count": null,
   "id": "1d5f657e",
   "metadata": {},
   "outputs": [],
   "source": []
  },
  {
   "cell_type": "markdown",
   "id": "6216cf8d",
   "metadata": {},
   "source": [
    "#### 231. 아래 코드를 실행한 결과를 예상하라.\n",
    "\n",
    "> def n_plus_1 (n) :\n",
    ">>     result = n + 1\n",
    "\n",
    "> n_plus_1(3)\n",
    "\n",
    "> print (result)"
   ]
  },
  {
   "cell_type": "code",
   "execution_count": null,
   "id": "15b1b7fe",
   "metadata": {},
   "outputs": [],
   "source": []
  },
  {
   "cell_type": "markdown",
   "id": "b7ccdd6f",
   "metadata": {},
   "source": [
    "#### 232. 문자열 하나를 입력받아 인터넷 주소를 반환하는 make_url 함수를 정의하라.\n",
    "\n",
    "> make_url(\"naver\")\n",
    "\n",
    "> www.naver.com"
   ]
  },
  {
   "cell_type": "code",
   "execution_count": null,
   "id": "4e08cc6f",
   "metadata": {},
   "outputs": [],
   "source": []
  },
  {
   "cell_type": "markdown",
   "id": "771ea185",
   "metadata": {},
   "source": [
    "#### 233. 문자열을 입력받아 각 문자들로 구성된 리스트로 반환하는 make_list 함수를 정의하라.\n",
    "\n",
    "> make_list(\"abcd\")\n",
    "\n",
    "> ['a', 'b', 'c', 'd']"
   ]
  },
  {
   "cell_type": "code",
   "execution_count": null,
   "id": "b35bc0aa",
   "metadata": {},
   "outputs": [],
   "source": []
  },
  {
   "cell_type": "markdown",
   "id": "f56054ed",
   "metadata": {},
   "source": [
    "#### 234. 숫자로 구성된 하나의 리스트를 입력받아, 짝수들을 추출하여 리스트로 반환하는 pickup_even 함수를 구현하라.\n",
    "\n",
    "> pickup_even([3, 4, 5, 6, 7, 8])\n",
    "\n",
    "> [4, 6, 8]"
   ]
  },
  {
   "cell_type": "code",
   "execution_count": null,
   "id": "c66b716b",
   "metadata": {},
   "outputs": [],
   "source": []
  },
  {
   "cell_type": "markdown",
   "id": "ff15684c",
   "metadata": {},
   "source": [
    "#### 235. 콤마가 포함된 문자열 숫자를 입력받아 정수로 변환하는 convert_int 함수를 정의하라.\n",
    "\n",
    "> convert_int(\"1,234,567\")\n",
    "\n",
    "> 1234567"
   ]
  },
  {
   "cell_type": "code",
   "execution_count": null,
   "id": "a77d8fdc",
   "metadata": {},
   "outputs": [],
   "source": []
  },
  {
   "cell_type": "markdown",
   "id": "320ca0da",
   "metadata": {},
   "source": [
    "#### 236. 아래 코드의 실행 결과를 예측하라.\n",
    "\n",
    "> def 함수(num) :\n",
    ">>     return num + 4\n",
    "\n",
    "> a = 함수(10)\n",
    "\n",
    "> b = 함수(a)\n",
    "\n",
    "> c = 함수(b)\n",
    "\n",
    "> print(c)"
   ]
  },
  {
   "cell_type": "code",
   "execution_count": null,
   "id": "7644ca77",
   "metadata": {},
   "outputs": [],
   "source": []
  },
  {
   "cell_type": "markdown",
   "id": "1196b5e2",
   "metadata": {},
   "source": [
    "#### 237. 아래 코드의 실행 결과를 예측하라.\n",
    "\n",
    "> def 함수(num) :\n",
    ">>     return num + 4\n",
    "\n",
    "> c = 함수(함수(함수(10)))\n",
    "\n",
    "> print(c)"
   ]
  },
  {
   "cell_type": "code",
   "execution_count": null,
   "id": "1928d332",
   "metadata": {},
   "outputs": [],
   "source": []
  },
  {
   "cell_type": "markdown",
   "id": "189e5c3a",
   "metadata": {},
   "source": [
    "#### 238. 아래 코드의 실행 결과를 예측하라.\n",
    "\n",
    "> def 함수1(num) :\n",
    ">>     return num + 4\n",
    "\n",
    "> def 함수2(num) :\n",
    ">>     return num * 10\n",
    "\n",
    "> a = 함수1(10)\n",
    "\n",
    "> c = 함수2(a)\n",
    "\n",
    "> print(c)"
   ]
  },
  {
   "cell_type": "markdown",
   "id": "1d5eea3a",
   "metadata": {},
   "source": [
    "#### 239. 아래 코드의 실행 결과를 예측하라.\n",
    "\n",
    "> def 함수1(num) :\n",
    ">>     return num + 4\n",
    "\n",
    "> def 함수2(num) :\n",
    ">>     num = num + 2\n",
    ">>     return 함수1(num)\n",
    "\n",
    "> c = 함수2(10)\n",
    "\n",
    "> print(c)"
   ]
  },
  {
   "cell_type": "code",
   "execution_count": null,
   "id": "dcbea886",
   "metadata": {},
   "outputs": [],
   "source": []
  },
  {
   "cell_type": "markdown",
   "id": "dea2a767",
   "metadata": {},
   "source": [
    "#### 240. 아래 코드의 실행 결과를 예측하라.\n",
    "\n",
    "> def 함수0(num) :\n",
    ">>     return num * 2\n",
    "\n",
    "> def 함수1(num) :\n",
    ">>     return 함수0(num + 2)\n",
    "\n",
    "> def 함수2(num) :\n",
    ">>     num = num + 10\n",
    ">>     return 함수1(num)\n",
    "\n",
    "> c = 함수2(2)\n",
    "\n",
    "> print(c)"
   ]
  },
  {
   "cell_type": "code",
   "execution_count": null,
   "id": "56ebeefe",
   "metadata": {},
   "outputs": [],
   "source": []
  }
 ],
 "metadata": {
  "kernelspec": {
   "display_name": "Python 3 (ipykernel)",
   "language": "python",
   "name": "python3"
  },
  "language_info": {
   "codemirror_mode": {
    "name": "ipython",
    "version": 3
   },
   "file_extension": ".py",
   "mimetype": "text/x-python",
   "name": "python",
   "nbconvert_exporter": "python",
   "pygments_lexer": "ipython3",
   "version": "3.9.7"
  }
 },
 "nbformat": 4,
 "nbformat_minor": 5
}
