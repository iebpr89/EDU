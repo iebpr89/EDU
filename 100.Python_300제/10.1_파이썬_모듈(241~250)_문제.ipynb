{
 "cells": [
  {
   "cell_type": "markdown",
   "id": "b481d8d2",
   "metadata": {},
   "source": [
    "\n",
    "### 파이썬 모듈은 파이썬 파일을 의미합니다. 파이썬은 다양한 분야별로 모듈을 제공합니다. 프로그램 구현에 필요한 모듈의 기초 사용법을 알아봅시다."
   ]
  },
  {
   "cell_type": "markdown",
   "id": "cc799c25",
   "metadata": {},
   "source": [
    "#### 241. 현재시간\n",
    "- datetime 모듈을 사용해서 현재 시간을 화면에 출력해보세요."
   ]
  },
  {
   "cell_type": "code",
   "execution_count": null,
   "id": "5fafc030",
   "metadata": {},
   "outputs": [],
   "source": []
  },
  {
   "cell_type": "markdown",
   "id": "00d410e8",
   "metadata": {},
   "source": [
    "#### 242. 현재시간의 타입\n",
    "- datetime 모듈의 now 함수의 리턴 값의 타입을 화면에 출력해보세요."
   ]
  },
  {
   "cell_type": "code",
   "execution_count": null,
   "id": "45a15894",
   "metadata": {},
   "outputs": [],
   "source": []
  },
  {
   "cell_type": "markdown",
   "id": "35d02fdc",
   "metadata": {},
   "source": [
    "#### 243. timedelta\n",
    "- datetime 모듈의 timedelta를 사용해서 오늘로부터 5일, 4일, 3일, 2일, 1일 전의 날짜를 화면에 출력해보세요."
   ]
  },
  {
   "cell_type": "code",
   "execution_count": null,
   "id": "f154ebb6",
   "metadata": {},
   "outputs": [],
   "source": []
  },
  {
   "cell_type": "markdown",
   "id": "72327e11",
   "metadata": {},
   "source": [
    "#### 244. strftime\n",
    "- 현재시간을 얻어온 후 다음과 같은 포맷으로 시간을 출력해보세요. strftime 메서드를 사용하세요."
   ]
  },
  {
   "cell_type": "code",
   "execution_count": null,
   "id": "d4dd8fb8",
   "metadata": {},
   "outputs": [],
   "source": []
  },
  {
   "cell_type": "markdown",
   "id": "18a38676",
   "metadata": {},
   "source": [
    "#### 245. strptime\n",
    "- datetime.datetime.strptime 메서드를 사용하면 문자열 형식의 시간을 datetime.datetime 타입의 시간 값으로 만들어줍니다. \"2020-05-04\"의 문자열을 시간 타입으로 변환해보세요."
   ]
  },
  {
   "cell_type": "code",
   "execution_count": null,
   "id": "bdca6b37",
   "metadata": {},
   "outputs": [],
   "source": []
  },
  {
   "cell_type": "markdown",
   "id": "4ad56e16",
   "metadata": {},
   "source": [
    "#### 246. sleep 함수\n",
    "- time 모듈, datetime 모듈을 사용해서 1초에 한 번 현재 시간을 출력하는 코드를 작성하세요.\n",
    "\n",
    "\n",
    "\n",
    " \n",
    "\n"
   ]
  },
  {
   "cell_type": "code",
   "execution_count": null,
   "id": "d768bd61",
   "metadata": {},
   "outputs": [],
   "source": []
  },
  {
   "cell_type": "markdown",
   "id": "7d265a61",
   "metadata": {},
   "source": [
    "#### 247. 모듈 임포트\n",
    "- 모듈을 임포트하는 4가지 방식에 대해 설명해보세요."
   ]
  },
  {
   "cell_type": "code",
   "execution_count": null,
   "id": "d546942a",
   "metadata": {},
   "outputs": [],
   "source": []
  },
  {
   "cell_type": "markdown",
   "id": "c9e94387",
   "metadata": {},
   "source": [
    "#### 248. os 모듈\n",
    "os 모듈의 getcwd 함수를 호출하여 현재 디렉터리의 경로를 화면에 출력해보세요."
   ]
  },
  {
   "cell_type": "code",
   "execution_count": null,
   "id": "efa091f8",
   "metadata": {},
   "outputs": [],
   "source": []
  },
  {
   "cell_type": "markdown",
   "id": "8cabe197",
   "metadata": {},
   "source": [
    "#### 249 rename 함수\n",
    "- 바탕화면에 텍스트 파일을 하나 생성한 후 os 모듈의 rename 함수를 호출하여 해당 파일의 이름을 변경해보세요."
   ]
  },
  {
   "cell_type": "code",
   "execution_count": null,
   "id": "cd65cf20",
   "metadata": {},
   "outputs": [],
   "source": []
  },
  {
   "cell_type": "markdown",
   "id": "5fd7c3bb",
   "metadata": {},
   "source": [
    "#### 250. numpy\n",
    "numpy 모듈의 arange 함수를 사용해서 0.0 부터 5.0까지 0.1씩 증가하는 값을 화면에 출력해보세요."
   ]
  },
  {
   "cell_type": "code",
   "execution_count": null,
   "id": "5e5b2a69",
   "metadata": {},
   "outputs": [],
   "source": []
  }
 ],
 "metadata": {
  "kernelspec": {
   "display_name": "Python 3 (ipykernel)",
   "language": "python",
   "name": "python3"
  },
  "language_info": {
   "codemirror_mode": {
    "name": "ipython",
    "version": 3
   },
   "file_extension": ".py",
   "mimetype": "text/x-python",
   "name": "python",
   "nbconvert_exporter": "python",
   "pygments_lexer": "ipython3",
   "version": "3.9.7"
  }
 },
 "nbformat": 4,
 "nbformat_minor": 5
}
