{
 "cells": [
  {
   "cell_type": "markdown",
   "id": "b481d8d2",
   "metadata": {},
   "source": [
    "\n",
    "### 파이썬 for 문은 횟수가 정해져 있거나 상대적으로 횟수가 적은 경우에 대한 반복에 주로 사용됩니다. 파이썬 while문은 횟수가 상대적으로 크거나 무한 루프 형태의 반복문에 사용됩니다."
   ]
  },
  {
   "cell_type": "markdown",
   "id": "cc799c25",
   "metadata": {},
   "source": [
    "#### 131. for문의 실행결과를 예측하라.\n",
    "\n",
    "> 과일 = [\"사과\", \"귤\", \"수박\"]\n",
    "\n",
    "> for 변수 in 과일:\n",
    "    print(변수)"
   ]
  },
  {
   "cell_type": "code",
   "execution_count": null,
   "id": "5fafc030",
   "metadata": {},
   "outputs": [],
   "source": [
    "사과\n",
    "귤\n",
    "수박"
   ]
  },
  {
   "cell_type": "markdown",
   "id": "00d410e8",
   "metadata": {},
   "source": [
    "#### 132. for문의 실행결과를 예측하라.\n",
    "\n",
    "> 과일 = [\"사과\", \"귤\", \"수박\"]\n",
    "\n",
    "> for 변수 in 과일:\n",
    ">>  print(\"#####\")"
   ]
  },
  {
   "cell_type": "code",
   "execution_count": 2,
   "id": "45a15894",
   "metadata": {},
   "outputs": [],
   "source": [
    "# 기초문법 배우기-1에서 for문의 핵심은 \"들여쓰기된 코드가 자료구조에 저장된 데이터 개수만큼 반복된다\"라고 설명했습니다. 과일 = [\"사과\", \"귤\", \"수박\"] 에는 세 개의 데이터가 저장돼 있으므로 들여쓰기된 print(\"####\")코드가 세 번 실행됩니다.\n",
    "#####\n",
    "#####\n",
    "#####"
   ]
  },
  {
   "cell_type": "markdown",
   "id": "35d02fdc",
   "metadata": {},
   "source": [
    "#### 133.다음 for 문과 동일한 기능을 수행하는 코드를 작성하세요.\n",
    "\n",
    "> for 변수 in [\"A\", \"B\", \"C\"]:\n",
    ">>  print(변수)"
   ]
  },
  {
   "cell_type": "code",
   "execution_count": 1,
   "id": "f154ebb6",
   "metadata": {},
   "outputs": [
    {
     "name": "stdout",
     "output_type": "stream",
     "text": [
      "A\n",
      "B\n",
      "C\n"
     ]
    }
   ],
   "source": [
    "# 파이썬 인터프리터가 어떤 순서로 코드를 실행하는지를 떠올려 보세요. \"변수 바인딩(라인 1) -> 변수 출력 (라인 2)\" 과정을 자료구조 데이터 개수 만큼 반복합니다.\n",
    "변수 = \"A\"\n",
    "print(변수)\n",
    "변수 = \"B\"\n",
    "print(변수)\n",
    "변수 = \"C\"\n",
    "print(변수)"
   ]
  },
  {
   "cell_type": "markdown",
   "id": "72327e11",
   "metadata": {},
   "source": [
    "#### 134. for문을 풀어서 동일한 동작을하는 코드를 작성하라.\n",
    "\n",
    "> for 변수 in [\"A\", \"B\", \"C\"]:\n",
    ">>  print(\"출력:\", 변수)"
   ]
  },
  {
   "cell_type": "code",
   "execution_count": 3,
   "id": "d4dd8fb8",
   "metadata": {},
   "outputs": [
    {
     "name": "stdout",
     "output_type": "stream",
     "text": [
      "출력: A\n",
      "출력: B\n",
      "출력: C\n"
     ]
    }
   ],
   "source": [
    "변수 = \"A\"\n",
    "print(\"출력:\", 변수)\n",
    "변수 = \"B\"\n",
    "print(\"출력:\", 변수)\n",
    "변수 = \"C\"\n",
    "print(\"출력:\", 변수)"
   ]
  },
  {
   "cell_type": "code",
   "execution_count": 4,
   "id": "bdb44c9f",
   "metadata": {},
   "outputs": [
    {
     "name": "stdout",
     "output_type": "stream",
     "text": [
      "출력: A\n",
      "출력: B\n",
      "출력: C\n"
     ]
    }
   ],
   "source": [
    "print(\"출력:\", \"A\")\n",
    "print(\"출력:\", \"B\")\n",
    "print(\"출력:\", \"C\")"
   ]
  },
  {
   "cell_type": "markdown",
   "id": "18a38676",
   "metadata": {},
   "source": [
    "#### 135. for문을 풀어서 동일한 동작을 하는 코드를 작성하라.\n",
    "\n",
    "> for 변수 in [\"A\", \"B\", \"C\"]:\n",
    ">>  b = 변수.lower()\n",
    "\n",
    ">>  print(\"변환:\", b)"
   ]
  },
  {
   "cell_type": "code",
   "execution_count": null,
   "id": "bdca6b37",
   "metadata": {},
   "outputs": [],
   "source": [
    "# 들여쓰기된 코드의 내용은 중요하지 않습니다. 파이썬 인터프리터가 코드를 해석하는 순서를 익히는 것이 중요합니다. 라인1의 for문이 실행되면 변수에 첫 번재 데이터를 바인딩합니다. 그리고 들여쓰기된 라인 2의 코드를 실행합니다.\n",
    "변수 = \"A\"\n",
    "b = 변수.lower()\n",
    "print(\"변환:\", b)"
   ]
  },
  {
   "cell_type": "code",
   "execution_count": null,
   "id": "0a7bff4b",
   "metadata": {},
   "outputs": [],
   "source": [
    "# 들여쓰기된 코드의 실행이 끝나면 라인 1로 이동해서 변수에 두 번재 데이터를 바인딩합니다. 그리고 들여쓰기된 코드를 실행합니다.\n",
    "\n",
    "변수 = \"B\"\n",
    "b = 변수.lower()\n",
    "print(\"변환:\", b)"
   ]
  },
  {
   "cell_type": "code",
   "execution_count": null,
   "id": "f80db1ce",
   "metadata": {},
   "outputs": [],
   "source": [
    "# 다음으로 변수 \"C\"를 바인딩하고 출력하면 되겠죠? for문을 풀어쓴 전체 코드는 다음과 같습니다.\n",
    "\n",
    "변수 = \"A\"\n",
    "b = 변수.lower()\n",
    "print(\"변환:\", b)\n",
    "변수 = \"B\"\n",
    "b = 변수.lower()\n",
    "print(\"변환:\", b)\n",
    "변수 = \"C\"\n",
    "b = 변수.lower()\n",
    "print(\"변환:\", b)"
   ]
  },
  {
   "cell_type": "markdown",
   "id": "4ad56e16",
   "metadata": {},
   "source": [
    "#### 136. 다음 코드를 for문으로 작성하라.\n",
    "\n",
    "> 변수 = 10\n",
    "\n",
    "> print(변수)\n",
    "\n",
    "> 변수 = 20\n",
    "\n",
    "> print(변수)\n",
    "\n",
    "> 변수 = 30\n",
    "\n",
    "> print(변수)\n",
    "\n",
    "\n",
    " \n",
    "\n"
   ]
  },
  {
   "cell_type": "code",
   "execution_count": null,
   "id": "d768bd61",
   "metadata": {},
   "outputs": [],
   "source": [
    "# for문은 동일한 루틴을 반복해서 실행하는 문법이었습니다. 우선 문제에서 변하지 않고 반복되는 코드를 찾아보세요. print(변수) 부분이죠? 변하는 부분은 변수에 값을 대입하는 코드입니다.\n",
    "변수 = 10\n",
    "print(변수)\n",
    "변수 = 20\n",
    "print(변수)\n",
    "변수 = 30\n",
    "print(변수)"
   ]
  },
  {
   "cell_type": "code",
   "execution_count": null,
   "id": "cfc64577",
   "metadata": {},
   "outputs": [],
   "source": [
    "# 반복되는 코드는 들여쓰기로 표현하고 for문에서 변하는 부분을 기술해 줍니다.\n",
    "\n",
    "for 변수 in [10, 20, 30]:\n",
    "    print(변수)"
   ]
  },
  {
   "cell_type": "code",
   "execution_count": null,
   "id": "7b13fefd",
   "metadata": {},
   "outputs": [],
   "source": [
    "다음과 같이 리스트 변수에 데이터를 바인딩하고, 변수를 for문의 자료구조 자리에 넣어줘도 됩니다.\n",
    "\n",
    "리스트 = [10, 20, 30]\n",
    "for 변수 in 리스트:\n",
    "    print(변수)"
   ]
  },
  {
   "cell_type": "markdown",
   "id": "7d265a61",
   "metadata": {},
   "source": [
    "#### 137. 다음 코드를 for문으로 작성하라.\n",
    "\n",
    "> print(10)\n",
    "\n",
    "> print(20)\n",
    "\n",
    "> print(30)\n",
    "\n"
   ]
  },
  {
   "cell_type": "code",
   "execution_count": null,
   "id": "d546942a",
   "metadata": {},
   "outputs": [],
   "source": [
    "# 값을 바인딩하는 코드가 생략된 코드입니다. 그렇다해도 for문으로 변경할 수 있어야합니다. 변하는 부분은 값 10, 20, 30입니다. 변하지 않는 부분은 print() 코드입니다.\n",
    "변수 = 10\n",
    "print(변수)\n",
    "변수 = 20\n",
    "print(변수)\n",
    "변수 = 30\n",
    "print(변수)"
   ]
  },
  {
   "cell_type": "code",
   "execution_count": null,
   "id": "d9d8bf75",
   "metadata": {},
   "outputs": [],
   "source": [
    "변하는 부분은 for문과 함께 리스트로 처리하고 변하지 않는 코드는 들여쓰기와 함께 적어줍니다.\n",
    "\n",
    "for 변수 in [10, 20, 30]:\n",
    "  print(변수)"
   ]
  },
  {
   "cell_type": "code",
   "execution_count": null,
   "id": "b8f7d2f0",
   "metadata": {},
   "outputs": [],
   "source": [
    "006번과 동일한 코드입니다."
   ]
  },
  {
   "cell_type": "markdown",
   "id": "c9e94387",
   "metadata": {},
   "source": [
    "#### 138. 다음 코드를 for문으로 작성하라.\n",
    "\n",
    "> print(10)\n",
    "\n",
    "> print(\"-------\")\n",
    "\n",
    "> print(20)\n",
    "\n",
    "> print(\"-------\")\n",
    "\n",
    "> print(30)\n",
    "\n",
    "> print(\"-------\")"
   ]
  },
  {
   "cell_type": "code",
   "execution_count": null,
   "id": "efa091f8",
   "metadata": {},
   "outputs": [],
   "source": [
    "# 변하는 값을 변수에 바인딩하고, 변수를 사용해서 나머지 코드를 작성합니다.\n",
    "변수 = 10\n",
    "print(변수)\n",
    "print(\"-------\")\n",
    "\n",
    "변수 = 20\n",
    "print(변수)\n",
    "print(\"-------\")\n",
    "\n",
    "변수 = 30\n",
    "print(변수)\n",
    "print(\"-------\")"
   ]
  },
  {
   "cell_type": "code",
   "execution_count": null,
   "id": "16c355da",
   "metadata": {},
   "outputs": [],
   "source": [
    "# 변하는 부분은 for문과 함께 리스트로 처리하고 변하지 않는 코드는 들여쓰기와 함께 적어줍니다.\n",
    "\n",
    "for 변수 in [10, 20, 30]:\n",
    "  print(변수)\n",
    "  print(\"-------\")"
   ]
  },
  {
   "cell_type": "markdown",
   "id": "8cabe197",
   "metadata": {},
   "source": [
    "#### 139. 다음 코드를 for문으로 작성하라.\n",
    "\n",
    "- print(\"++++\")\n",
    "- print(10)\n",
    "- print(20)\n",
    "- print(30)"
   ]
  },
  {
   "cell_type": "code",
   "execution_count": null,
   "id": "cd65cf20",
   "metadata": {},
   "outputs": [],
   "source": [
    "# print(\"++++\") 코드가 함정입니다. 파이썬 for문은 반복되는 코드에만 사용합니다.\n",
    "\n",
    "print(\"++++\")\n",
    "for 변수 in [10, 20, 30]:\n",
    "    print(변수)"
   ]
  },
  {
   "cell_type": "markdown",
   "id": "5fd7c3bb",
   "metadata": {},
   "source": [
    "#### 140. 다음 코드를 for문으로 작성하라.\n",
    "\n",
    "> print(\"-------\")\n",
    "\n",
    "> print(\"-------\")\n",
    "\n",
    "> print(\"-------\")\n",
    "\n",
    "> print(\"-------\")"
   ]
  },
  {
   "cell_type": "code",
   "execution_count": null,
   "id": "5e5b2a69",
   "metadata": {},
   "outputs": [],
   "source": [
    "# 네 번 반복 출력하는 코드를 작성하는 문제입니다.\n",
    "# - 변하는 값 : 없음\n",
    "# - 변하지 않는 코드 : print(\"-------\")\n",
    "# 지금까지 정리한 내용을 코드로 작성하면 아래와 같습니다. \"????\" 부분을 어떻게 채워야 할까요?\n",
    "\n",
    "for 변수 in ?????:\n",
    "    print(\"-------\")"
   ]
  },
  {
   "cell_type": "code",
   "execution_count": null,
   "id": "e07703b2",
   "metadata": {},
   "outputs": [],
   "source": [
    "# 파이썬 문법에서 강조했던 내용을 떠올려 봅시다.\n",
    "# 파이썬 for문은 들여쓰기된 코드가 자료구조의 데이터 개수만큼 반복된다는 사실이 중요합니다.\n",
    "# 문제에서 원하는 것은 들여쓰기된 코드가 4번 실행되는 것입니다. 그렇다면 for문의 자료구조자리에 데이터가 4개저장된 리스트가 들어가면 어떻게 될까요?\n",
    "\n",
    "for 변수 in [\"가\", \"나\", \"다\", \"라\"]:\n",
    "    print(\"-------\")"
   ]
  },
  {
   "cell_type": "code",
   "execution_count": null,
   "id": "fa579c99",
   "metadata": {},
   "outputs": [],
   "source": [
    "# 변수에 값이 바인딩되지만 사용되지 않을뿐 실행해보면 들여쓰기된 코드가 4번 실행됩니다. 위 예제에서는 자료구조에 \"가나다라\" 문자열 값을 넣었지만 아래와 같이 1,2,3,4 숫자 값을 넣어도 동일한 동작을 합니다. 자료구조에 네 개의 데이터가 들어있으면 됩니다.\n",
    "\n",
    "for 변수 in [1, 2, 3, 4]:\n",
    "    print(\"-------\")"
   ]
  },
  {
   "cell_type": "markdown",
   "id": "28cd8342",
   "metadata": {},
   "source": [
    "#### 141. 다음과 같이 판매가가 저장된 리스트가 있을 때 부가세가 포함된 가격을 for 문을 사용해서 화면에 출력하라. 단 부가세는 10원으로 가정한다.\n",
    "\n",
    "> 리스트 = [100, 200, 300]\n",
    "\n",
    "> 110\n",
    "\n",
    "> 210\n",
    "\n",
    "> 310"
   ]
  },
  {
   "cell_type": "code",
   "execution_count": null,
   "id": "924553ff",
   "metadata": {},
   "outputs": [],
   "source": [
    "# 우선, for문을 사용하지 않고 모든 값에 10을 더하는 코드를 작성해 봅시다.\n",
    "변수 = 100\n",
    "print(변수 + 10)\n",
    "변수 = 200\n",
    "print(변수 + 10)\n",
    "변수 = 300\n",
    "print(변수 + 10)"
   ]
  },
  {
   "cell_type": "code",
   "execution_count": null,
   "id": "bb5e4de4",
   "metadata": {},
   "outputs": [],
   "source": [
    "# 변하는 값은 for문의 자료구조 자리에, 변하지 않는 코드는 들여쓰기 후에 작성합니다.\n",
    "\n",
    "리스트 = [100, 200, 300]\n",
    "for 변수 in 리스트:\n",
    "  print(변수 + 10)"
   ]
  },
  {
   "cell_type": "code",
   "execution_count": null,
   "id": "f552b480",
   "metadata": {},
   "outputs": [],
   "source": [
    "# 파이썬 인터프리터가 코드를 실행하는 순서를 익혀서, 한 번에 for문으로 작성할 수 있어야합니다.\n",
    "# (100 바인딩 - 들여쓰기 코드 실행)\n",
    "# (200 바인딩 - 들여쓰기 코드 실행)\n",
    "# (300 바인딩 - 들여쓰기 코드 실행)"
   ]
  },
  {
   "cell_type": "markdown",
   "id": "de312537",
   "metadata": {},
   "source": [
    "#### 142. for 문을 사용해서 리스트에 저장된 값을 다음과 같이 출력하라.\n",
    "\n",
    "> 리스트 = [\"김밥\", \"라면\", \"튀김\"]\n",
    "\n",
    "> 오늘의 메뉴: 김밥\n",
    "\n",
    "> 오늘의 메뉴: 라면\n",
    "\n",
    "> 오늘의 메뉴: 튀김"
   ]
  },
  {
   "cell_type": "code",
   "execution_count": null,
   "id": "b8dc6834",
   "metadata": {},
   "outputs": [],
   "source": [
    "# for문을 사용하지 않고 문자열을 출력하는 코드를 작성해 봅시다. 011번 문제와는 리스트안의 데이터 타입이 문자열이라는 것이 차이점입니다. 문자열의 덧셈은 두 문자열을 이어붙입니다.\n",
    "메뉴 = \"김밥\"\n",
    "print(\"오늘의 메뉴: \" + 메뉴)\n",
    "메뉴 = \"라면\"\n",
    "print(\"오늘의 메뉴: \" + 메뉴)\n",
    "메뉴 = \"튀김\"\n",
    "print(\"오늘의 메뉴: \" + 메뉴)"
   ]
  },
  {
   "cell_type": "code",
   "execution_count": null,
   "id": "ad164631",
   "metadata": {},
   "outputs": [],
   "source": [
    "# 변하는 값은 for문의 자료구조 자리에, 변하지 않는 코드는 들여쓰기 후에 작성합니다.\n",
    "\n",
    "리스트 = [\"김밥\", \"라면\", \"튀김\"]\n",
    "for 메뉴 in 리스트:\n",
    "  print(\"오늘의 메뉴: \" + 메뉴)"
   ]
  },
  {
   "cell_type": "code",
   "execution_count": null,
   "id": "98d80b0f",
   "metadata": {},
   "outputs": [],
   "source": [
    "# 문자열 덧셈 대신 print() 함수의 기능을 사용해서 다음과 같이 코드를 작성해도 좋습니다. print() 함수는 입력한 값을 한칸의 공백과 함께 이어붙여 출력합니다.\n",
    "\n",
    "리스트 = [\"김밥\", \"라면\", \"튀김\"]\n",
    "for 메뉴 in 리스트:\n",
    "  print(\"오늘의 메뉴:\", 메뉴)"
   ]
  },
  {
   "cell_type": "markdown",
   "id": "c411bb39",
   "metadata": {},
   "source": [
    "#### 143. 리스트에 주식 종목이름이 저장돼 있다.\n",
    "\n",
    "- 리스트 = [\"SK하이닉스\", \"삼성전자\", \"LG전자\"]\n",
    "- 저장된 문자열의 길이를 다음과 같이 출력하라.\n",
    "\n",
    "> 6\n",
    "\n",
    "> 4\n",
    "\n",
    "> 4"
   ]
  },
  {
   "cell_type": "code",
   "execution_count": null,
   "id": "732c96fa",
   "metadata": {},
   "outputs": [],
   "source": [
    "# 문자열의 길이를 구하는 함수 len()을 사용합니다.\n",
    "리스트 = [\"SK하이닉스\", \"삼성전자\", \"LG전자\"]\n",
    "for 종목명 in 리스트:\n",
    "  길이 = len(종목명)\n",
    "  print(길이)"
   ]
  },
  {
   "cell_type": "code",
   "execution_count": null,
   "id": "5711758d",
   "metadata": {},
   "outputs": [],
   "source": [
    "# 간단하기 때문에 한줄로 표현해도 좋습니다.\n",
    "\n",
    "리스트 = [\"SK하이닉스\", \"삼성전자\", \"LG전자\"]\n",
    "for 종목명 in 리스트:\n",
    "  print(len(종목명))"
   ]
  },
  {
   "cell_type": "code",
   "execution_count": null,
   "id": "9d4a21b5",
   "metadata": {},
   "outputs": [],
   "source": [
    "# 한 번에 코드를 작성하기 어렵다면 for문을 사용하지 않고 풀어서 코드를 작성해보세요."
   ]
  },
  {
   "cell_type": "markdown",
   "id": "f50e0c17",
   "metadata": {},
   "source": [
    "#### 144. 리스트에는 동물이름이 문자열로 저장돼 있다.\n",
    "\n",
    "- 리스트 = ['dog', 'cat', 'parrot']\n",
    "- 동물 이름과 글자수를 다음과 같이 출력하라.\n",
    "\n",
    "> dog 3\n",
    "\n",
    "> cat 3\n",
    "\n",
    "> parrot 6"
   ]
  },
  {
   "cell_type": "code",
   "execution_count": 5,
   "id": "aea5035d",
   "metadata": {},
   "outputs": [
    {
     "name": "stdout",
     "output_type": "stream",
     "text": [
      "dog 3\n",
      "cat 3\n",
      "parrot 6\n"
     ]
    }
   ],
   "source": [
    "# 리스트에는 동물이름이 문자열로 저장돼 있다.\n",
    "리스트 = ['dog', 'cat', 'parrot']\n",
    "for 이름 in 리스트:\n",
    "  print(이름, len(이름))"
   ]
  },
  {
   "cell_type": "markdown",
   "id": "6e4066d2",
   "metadata": {},
   "source": [
    "#### 145. 리스트에 동물 이름 저장돼 있다.\n",
    "\n",
    "- 리스트 = ['dog', 'cat', 'parrot']\n",
    "- for문을 사용해서 동물 이름의 첫 글자만 출력하라.\n",
    "\n",
    "> d\n",
    "\n",
    "> c\n",
    "\n",
    "> p"
   ]
  },
  {
   "cell_type": "code",
   "execution_count": null,
   "id": "87b8f1a9",
   "metadata": {},
   "outputs": [],
   "source": [
    "# 어렵게 느껴진다면 for문을 사용하지 않고 코드를 작성해봅시다. 바인딩된 문자열의 인덱싱을 사용해서 첫 글자를 화면에 출력합니다.\n",
    "이름 = \"dog\"\n",
    "print(이름[0])\n",
    "변수 = \"cat\"\n",
    "print(이름[0])\n",
    "변수 = \"parrot\"\n",
    "print(이름[0])"
   ]
  },
  {
   "cell_type": "code",
   "execution_count": null,
   "id": "ca523455",
   "metadata": {},
   "outputs": [],
   "source": [
    "# 변하는 값은 for문의 자료구조 자리에, 변하지 않는 코드는 들여쓰기 후에 작성합니다. 쉽죠?\n",
    "\n",
    "리스트 = ['dog', 'cat', 'parrot']\n",
    "for 이름 in 리스트:\n",
    "  print(이름[0])"
   ]
  },
  {
   "cell_type": "markdown",
   "id": "3cf842fc",
   "metadata": {},
   "source": [
    "#### 146\n",
    "- 리스트에는 세 개의 숫자가 바인딩돼 있다.\n",
    "\n",
    "- 리스트 = [1, 2, 3]\n",
    "- for문을 사용해서 다음과 같이 출력하라.\n",
    "\n",
    "> 3 x 1\n",
    "\n",
    "> 3 x 2\n",
    "\n",
    "> 3 x 3"
   ]
  },
  {
   "cell_type": "code",
   "execution_count": null,
   "id": "dc96999b",
   "metadata": {},
   "outputs": [],
   "source": [
    "# 012 문제를 풀었다면 충분히 응용할 수 있어야합니다. \"3 x \" 문자열과 숫자를 이어붙여 출력하면됩니다. 다만 변수에 바인딩된 값이 숫자이기 때문에 문자로 변환 후에 문자열 연산을 사용할 수 있습니다.\n",
    "리스트 = [1, 2, 3]\n",
    "for 변수 in 리스트:\n",
    "  print(\"3 x \" + str(변수))"
   ]
  },
  {
   "cell_type": "code",
   "execution_count": null,
   "id": "5ac336f2",
   "metadata": {},
   "outputs": [],
   "source": [
    "# 혹은 print() 함수가 제공하는 기능을 사용할 수 있습니다.\n",
    "\n",
    "리스트 = [1, 2, 3]\n",
    "for 변수 in 리스트:\n",
    "  print(\"3 x\", 변수)"
   ]
  },
  {
   "cell_type": "markdown",
   "id": "4101e8ad",
   "metadata": {},
   "source": [
    "#### 147\n",
    "- 리스트에는 세 개의 숫자가 바인딩돼 있다.\n",
    "\n",
    "- 리스트 = [1, 2, 3]\n",
    "- for문을 사용해서 다음과 같이 출력하라.\n",
    "\n",
    "- 3 x 1 = 3\n",
    "- 3 x 2 = 6\n",
    "- 3 x 3 = 9"
   ]
  },
  {
   "cell_type": "code",
   "execution_count": null,
   "id": "f88a8a1a",
   "metadata": {},
   "outputs": [],
   "source": [
    "# 어려워 보인다면, for문을 사용하지 않고 풀어서 코드를 작성해야 합니다. 핵심은 print() 함수에서 3 * 변수 부분입니다. 변수를 활용해서 원하는 값을 만들어 냈습니다.\n",
    "변수 = 1\n",
    "print(\"3 x \", 변수, \"=\", 3 * 변수)\n",
    "변수 = 2\n",
    "print(\"3 x \", 변수, \"=\", 3 * 변수)\n",
    "변수 = 2\n",
    "print(\"3 x \", 변수, \"=\", 3 * 변수)"
   ]
  },
  {
   "cell_type": "code",
   "execution_count": null,
   "id": "2f85887c",
   "metadata": {},
   "outputs": [],
   "source": [
    "# 값만 변하고 있기 때문에 쉽게 for문으로 작성할 수 있습니다.\n",
    "\n",
    "리스트 = [1, 2, 3]\n",
    "for 변수 in 리스트:\n",
    "  print(\"3 x \", 변수, \"=\", 3 * 변수)"
   ]
  },
  {
   "cell_type": "code",
   "execution_count": null,
   "id": "9cecef02",
   "metadata": {},
   "outputs": [],
   "source": [
    "# 1장에서 배운 문자열 함수를 활용하면 코드가 더욱 읽기 쉬워집니다.\n",
    "\n",
    "리스트 = [1, 2, 3]\n",
    "for 변수 in 리스트:\n",
    "  print(\"3 x {} = {}\".format(변수, 3 * 변수))"
   ]
  },
  {
   "cell_type": "markdown",
   "id": "32520706",
   "metadata": {},
   "source": [
    "#### 148. 리스트에는 네 개의 문자열이 바인딩돼 있다.\n",
    "\n",
    "- 리스트 = [\"가\", \"나\", \"다\", \"라\"]\n",
    "- for문을 사용해서 다음과 같이 출력하라.\n",
    "\n",
    "- 나\n",
    "- 다\n",
    "- 라"
   ]
  },
  {
   "cell_type": "code",
   "execution_count": null,
   "id": "cb10aeb3",
   "metadata": {},
   "outputs": [],
   "source": [
    "# 리스트의 슬라이싱을 사용해서 일부 데이터를 \"나다라\" 변수에 바인딩합니다. \"나다라\"에 바인딩 된 리스트로 for문을 사용하면 원하는 결과를 얻을 수 있습니다. [1:] 코드가 어색하다면 2장을 복습합시다.\n",
    "리스트 = [\"가\", \"나\", \"다\", \"라\"]\n",
    "나다라 = 리스트[1:]\n",
    "for 변수 in 나다라:\n",
    "  print(변수)"
   ]
  },
  {
   "cell_type": "code",
   "execution_count": null,
   "id": "d55832a2",
   "metadata": {},
   "outputs": [],
   "source": [
    "# 리스트를 슬라이싱한 결과를 \"리스트\" 변수에 업데이트 할 수도있습니다. 전체 값을 출력하는 코드에서 for문의 코드 변경없이 추가 코드만 한줄 작성합니다.\n",
    "\n",
    "리스트 = [\"가\", \"나\", \"다\", \"라\"]\n",
    "리스트 = 리스트[1:]\n",
    "for 변수 in 리스트:\n",
    "  print(변수)"
   ]
  },
  {
   "cell_type": "code",
   "execution_count": null,
   "id": "de279594",
   "metadata": {},
   "outputs": [],
   "source": [
    "# 간단하니 for문 자료구조 자리에 슬라이싱 코드를 한번에 작성할 수도있습니다.\n",
    "\n",
    "리스트 = [\"가\", \"나\", \"다\", \"라\"]\n",
    "for 변수 in 리스트[1:]:\n",
    "  print(변수)"
   ]
  },
  {
   "cell_type": "markdown",
   "id": "17bff52f",
   "metadata": {},
   "source": [
    "#### 149. 리스트에는 네 개의 문자열이 바인딩돼 있다.\n",
    "\n",
    "- 리스트 = [\"가\", \"나\", \"다\", \"라\"]\n",
    "for문을 사용해서 다음과 같이 출력하라.\n",
    "\n",
    "- 가\n",
    "- 다"
   ]
  },
  {
   "cell_type": "code",
   "execution_count": 6,
   "id": "a534f177",
   "metadata": {},
   "outputs": [
    {
     "name": "stdout",
     "output_type": "stream",
     "text": [
      "가\n",
      "다\n"
     ]
    }
   ],
   "source": [
    "# 리스트 슬라이싱에서 [시작:끝:증감폭] 세번째 값은 값을 가져오는 단위를 의미했습니다. 증감폭을 2로 설정해서 \"가\"와 \"다\" 값만 슬라이싱합니다.\n",
    "리스트 = [\"가\", \"나\", \"다\", \"라\"]\n",
    "for 변수 in 리스트[: :2]:\n",
    "  print(변수)"
   ]
  },
  {
   "cell_type": "markdown",
   "id": "41fc73a9",
   "metadata": {},
   "source": [
    "#### 150. 리스트에는 네 개의 문자열이 바인딩돼 있다.\n",
    "\n",
    "- 리스트 = [\"가\", \"나\", \"다\", \"라\"]\n",
    "- for문을 사용해서 다음과 같이 출력하라.\n",
    "\n",
    "- 라\n",
    "- 다\n",
    "- 나\n",
    "- 가"
   ]
  },
  {
   "cell_type": "code",
   "execution_count": 7,
   "id": "d72651b9",
   "metadata": {},
   "outputs": [
    {
     "name": "stdout",
     "output_type": "stream",
     "text": [
      "라\n",
      "다\n",
      "나\n",
      "가\n"
     ]
    }
   ],
   "source": [
    "# 증감폭을 음수로 설정하면 끝에서 앞방향으로 값을 슬라이싱합니다.\n",
    "리스트 = [\"가\", \"나\", \"다\", \"라\"]\n",
    "for 변수 in 리스트[: :-1]:\n",
    "  print(변수)"
   ]
  },
  {
   "cell_type": "code",
   "execution_count": null,
   "id": "d1aa51c4",
   "metadata": {},
   "outputs": [],
   "source": []
  },
  {
   "cell_type": "markdown",
   "id": "3466b2d2",
   "metadata": {},
   "source": [
    "#### 151. 리스트에는 네 개의 정수가 저장돼 있다.\n",
    "\n",
    "- 리스트 = [3, -20, -3, 44]\n",
    "- for문을 사용해서 리스트의 음수를 출력하라.\n",
    "\n",
    "> 20\n",
    "\n",
    "> 3"
   ]
  },
  {
   "cell_type": "code",
   "execution_count": null,
   "id": "649e86de",
   "metadata": {},
   "outputs": [],
   "source": [
    "# 리스트에 저장된 모든 값에 접근해서 음수 여부를 판단해야 합니다. 라인 3을 제외하면 리스트에 저장된 모든 값을 출력하는 코드입니다. 라인 3의 분기문의 사용으로 모든 값을 출력하는 것이 아니라 조건이 참인 경우에만 if문의 들여쓰기된 코드가 실행됩니다.\n",
    "1: 리스트 = [3, -20, -3, 44]\n",
    "2: for 변수 in 리스트:\n",
    "3:   if 변수 < 0:\n",
    "4:     print(변수)"
   ]
  },
  {
   "cell_type": "code",
   "execution_count": null,
   "id": "055809eb",
   "metadata": {},
   "outputs": [],
   "source": [
    "# 인터프리터가 실행하는 순서를 정리해보면 다음과 같습니다.\n",
    "# (변수 3 바인딩 - 분기문 비교:거짓)\n",
    "# (변수 -20 바인딩 - 분기문 비교:참 - 코드 실행)\n",
    "# (변수 -3 바인딩 - 분기문 비교:참 - 코드 실행)\n",
    "# (변수 44 바인딩 - 분기문 비교:거짓)"
   ]
  },
  {
   "cell_type": "markdown",
   "id": "d997974a",
   "metadata": {},
   "source": [
    "#### 152. for문을 사용해서 3의 배수만을 출력하라.\n",
    "\n",
    "- 리스트 = [3, 100, 23, 44]\n",
    "> 3"
   ]
  },
  {
   "cell_type": "code",
   "execution_count": null,
   "id": "1f46485a",
   "metadata": {},
   "outputs": [],
   "source": [
    "# 3의 배수일 경우에만 값을 출력합니다. 3의 배수는 3으로 나눈 나머지가 0이면 3의 배수입니다. 변수 % 3은 변수를 3으로 나눈 나머지를 의미합니다. 예를들어 10 % 3은 10을 3으로 나눈 나머지로 1을 반환합니다.\n",
    "리스트 = [3, 100, 23, 44]\n",
    "for 변수 in 리스트:\n",
    "  if 변수 % 3 == 0:\n",
    "    print(변수)"
   ]
  },
  {
   "cell_type": "markdown",
   "id": "3128923d",
   "metadata": {},
   "source": [
    "#### 153. 리스트에서 20 보다 작은 3의 배수를 출력하라\n",
    "\n",
    "- 리스트 = [13, 21, 12, 14, 30, 18]\n",
    "\n",
    "> 12\n",
    "\n",
    "> 18"
   ]
  },
  {
   "cell_type": "code",
   "execution_count": null,
   "id": "b89489e8",
   "metadata": {},
   "outputs": [],
   "source": [
    "# 하나 이상의 조건을 비교할 때는 논리 연산자를 사용해야겠죠? 두 조건이 모두 참일 때만 실행돼야 하므로 and 연산자를 사용합니다. 또한 코드의 가독성 향상을 위해 두 조건을 괄호로 구분했습니다. 괄호가 없어도 코드는 같은 동작을 합니다.\n",
    "리스트 = [13, 21, 12, 14, 30, 18]\n",
    "for 변수 in 리스트:\n",
    "  if (변수 < 20) and (변수 % 3 == 0):\n",
    "    print(변수)"
   ]
  },
  {
   "cell_type": "code",
   "execution_count": null,
   "id": "7d105ac0",
   "metadata": {},
   "outputs": [],
   "source": [
    "# and, or, not이 기억나지 않으신 분들은 3장 분기문을 복습해주세요."
   ]
  },
  {
   "cell_type": "markdown",
   "id": "89ecd942",
   "metadata": {},
   "source": [
    "#### 154. 리스트에서 세 글자 이상의 문자를 화면에 출력하라\n",
    "\n",
    "- 리스트 = [\"I\", \"study\", \"python\", \"language\", \"!\"]\n",
    "- study\n",
    "- python\n",
    "- language"
   ]
  },
  {
   "cell_type": "code",
   "execution_count": 8,
   "id": "f6963680",
   "metadata": {},
   "outputs": [
    {
     "name": "stdout",
     "output_type": "stream",
     "text": [
      "study\n",
      "python\n",
      "language\n"
     ]
    }
   ],
   "source": [
    "# 모든 문자열 중에서 문자열의 길이가 3이상인 문자열만 출력합니다. 문자열의 길이를 계산하는 len() 함수와 분기문을 사용합니다.\n",
    "리스트 = [\"I\", \"study\", \"python\", \"language\", \"!\"]\n",
    "for 변수 in 리스트:\n",
    "  if len(변수) >= 3:\n",
    "    print(변수)"
   ]
  },
  {
   "cell_type": "markdown",
   "id": "0ac1fcff",
   "metadata": {},
   "source": [
    "#### 155. 리스트에서 대문자만 화면에 출력하라.\n",
    "\n",
    "- 리스트 = [\"A\", \"b\", \"c\", \"D\"]\n",
    "- A\n",
    "- D\n",
    "- (참고) isupper() 메서드는 대문자 여부를 판별합니다.\n",
    "\n",
    "> 변수 = \"A\"\n",
    "\n",
    "> 변수.isupper()\n",
    "\n",
    "> True\n",
    "\n",
    "> 변수 = \"a\"\n",
    "\n",
    "> 변수.isupper()\n",
    "\n",
    "> False"
   ]
  },
  {
   "cell_type": "code",
   "execution_count": 9,
   "id": "b5492d82",
   "metadata": {},
   "outputs": [
    {
     "name": "stdout",
     "output_type": "stream",
     "text": [
      "A\n",
      "D\n"
     ]
    }
   ],
   "source": [
    "리스트 = [\"A\", \"b\", \"c\", \"D\"]\n",
    "for 변수 in 리스트:\n",
    "    if 변수.isupper():\n",
    "        print(변수)"
   ]
  },
  {
   "cell_type": "markdown",
   "id": "55e9cd50",
   "metadata": {},
   "source": [
    "#### 156. 리스트에서 소문자만 화면에 출력하라.\n",
    "\n",
    "- 리스트 = [\"A\", \"b\", \"c\", \"D\"]\n",
    "- b\n",
    "- c"
   ]
  },
  {
   "cell_type": "code",
   "execution_count": null,
   "id": "b96e50ed",
   "metadata": {},
   "outputs": [],
   "source": [
    "# 비교 연산자를 사용해서 다음과 같이 표현할 수 있습니다.\n",
    "리스트 = [\"A\", \"b\", \"c\", \"D\"]\n",
    "for 변수 in 리스트:\n",
    "    if 변수.isupper() == False:\n",
    "        print(변수)"
   ]
  },
  {
   "cell_type": "code",
   "execution_count": null,
   "id": "66e23998",
   "metadata": {},
   "outputs": [],
   "source": [
    "리스트 = [\"A\", \"b\", \"c\", \"D\"]\n",
    "for 변수 in 리스트:\n",
    "    if 변수.isupper() != True:\n",
    "        print(변수)"
   ]
  },
  {
   "cell_type": "code",
   "execution_count": null,
   "id": "354116d9",
   "metadata": {},
   "outputs": [],
   "source": [
    "# 논리 연산자 not을 사용할 수도 있습니다.\n",
    "\n",
    "리스트 = [\"A\", \"b\", \"c\", \"D\"]\n",
    "for 변수 in 리스트:\n",
    "    if not 변수.isupper():\n",
    "        print(변수)"
   ]
  },
  {
   "cell_type": "markdown",
   "id": "0a7a6d6b",
   "metadata": {},
   "source": [
    "#### 157. 이름의 첫 글자를 대문자로 변경해서 출력하라.\n",
    "\n",
    "- 리스트 = ['dog', 'cat', 'parrot']\n",
    "- Dog\n",
    "- Cat\n",
    "- Parrot\n",
    "- (참고) upper() 메서드는 문자열을 대문자로 변경합니다.\n",
    "\n",
    "> 변수 = \"a\"\n",
    "\n",
    "> a.upper()\n",
    "\n",
    "> A\n",
    "\n",
    "> 변수 = \"abc\"\n",
    "\n",
    "> 변수.upper()\n",
    "\n",
    "> ABC"
   ]
  },
  {
   "cell_type": "code",
   "execution_count": null,
   "id": "98030a99",
   "metadata": {},
   "outputs": [],
   "source": [
    "# 지금까지 배웠던 내용을 모두 응용해야 하는 문제입니다. 첫 번째 단어만 대문자로 변경해야하기 때문에 아래의 순서로 처리해야 합니다.\n",
    "# 1) 인덱싱으로 첫번째 문자를 가져온다.\n",
    "# 2) upper() 함수로 대문자로 변경한다.\n",
    "# 3) 변경한 대문자와 나머지 문자를 이어붙인다."
   ]
  },
  {
   "cell_type": "code",
   "execution_count": null,
   "id": "82029fca",
   "metadata": {},
   "outputs": [],
   "source": [
    "# 정리한 내용을 코드로 작성하면 다음과 같습니다.\n",
    "리스트 = ['dog', 'cat', 'parrot']\n",
    "for 변수 in 리스트:\n",
    "  첫글자 = 변수[0]              # 1)\n",
    "  대문자 = 첫글자.upper()     # 2)\n",
    "  print(대문자 + 변수[1:])      # 3)"
   ]
  },
  {
   "cell_type": "code",
   "execution_count": null,
   "id": "7821d5e3",
   "metadata": {},
   "outputs": [],
   "source": [
    "# 간단하기 때문에 한줄에 코드를 작성해도 좋습니다.\n",
    "\n",
    "for 변수 in 리스트:\n",
    "  print(변수[0].upper() + 변수[1:])"
   ]
  },
  {
   "cell_type": "markdown",
   "id": "9bff28dd",
   "metadata": {},
   "source": [
    "#### 158. 파일 이름이 저장된 리스트에서 확장자를 제거하고 파일 이름만 화면에 출력하라. (힌트: split() 메서드)\n",
    "\n",
    "- 리스트 = ['hello.py', 'ex01.py', 'intro.hwp']\n",
    "- hello\n",
    "- ex01\n",
    "- intro"
   ]
  },
  {
   "cell_type": "code",
   "execution_count": null,
   "id": "19125588",
   "metadata": {},
   "outputs": [],
   "source": [
    "# split() 메서드는 문자열을 입력된 구분자로 분할해서 리스트로 반환합니다. 다음 예제 코드의 결과를 예상해봅시다.\n",
    "변수 = \"abcdef\"\n",
    "print(변수.split(\"c\"))"
   ]
  },
  {
   "cell_type": "code",
   "execution_count": null,
   "id": "5cc78e06",
   "metadata": {},
   "outputs": [],
   "source": [
    "# 입력된 구분자 (\"c\")로 문자열을 분할해서 \"ab\"와 \"def\"를 리스트에 저장합니다.\n",
    "\n",
    "['ab', 'def']"
   ]
  },
  {
   "cell_type": "code",
   "execution_count": 10,
   "id": "9d3934ac",
   "metadata": {},
   "outputs": [
    {
     "name": "stdout",
     "output_type": "stream",
     "text": [
      "hello\n",
      "ex01\n",
      "intro\n"
     ]
    }
   ],
   "source": [
    "# split() 메서드를 사용해서 마침표를 구분자 (\".\")로 문자열을 분할합니다. 그리고 0번 인덱스에 들어있는 파일 이름만 화면에 출력합니다.\n",
    "\n",
    "리스트 = ['hello.py', 'ex01.py', 'intro.hwp']\n",
    "for 변수 in 리스트:\n",
    "  split = 변수.split(\".\")\n",
    "  print(split[0])  "
   ]
  },
  {
   "cell_type": "markdown",
   "id": "5612862e",
   "metadata": {},
   "source": [
    "#### 159. 파일 이름이 저장된 리스트에서 확장자가 .h인 파일 이름을 출력하라.\n",
    "\n",
    "- 리스트 = ['intra.h', 'intra.c', 'define.h', 'run.py']\n",
    "- intra.h\n",
    "- define.h"
   ]
  },
  {
   "cell_type": "code",
   "execution_count": 6,
   "id": "e3b41fd6",
   "metadata": {},
   "outputs": [
    {
     "name": "stdout",
     "output_type": "stream",
     "text": [
      "가\n",
      "다\n"
     ]
    }
   ],
   "source": [
    "# split() 메서드로 문자열을 분할하고 확장자가 \"h\"인지 분기문으로 비교합니다. 확장자가 \"h\"라면 파일 이름을 출력합니다.\n",
    "리스트 = ['intra.h', 'intra.c', 'define.h', 'run.py']\n",
    "for 변수 in 리스트:\n",
    "  split = 변수.split(\".\")\n",
    "  if split[1] == \"h\":\n",
    "    print(변수)"
   ]
  },
  {
   "cell_type": "markdown",
   "id": "bf25da9c",
   "metadata": {},
   "source": [
    "#### 160. 파일 이름이 저장된 리스트에서 확장자가 .h나 .c인 파일을 화면에 출력하라.\n",
    "\n",
    "- 리스트 = ['intra.h', 'intra.c', 'define.h', 'run.py']\n",
    "- intra.h\n",
    "- intra.c\n",
    "- define.h"
   ]
  },
  {
   "cell_type": "code",
   "execution_count": 11,
   "id": "7f7ef42f",
   "metadata": {},
   "outputs": [
    {
     "name": "stdout",
     "output_type": "stream",
     "text": [
      "intra.h\n",
      "intra.c\n",
      "define.h\n"
     ]
    }
   ],
   "source": [
    "# 논리 연산자 or을 사용해서 두 개의 확장자를 비교합니다.\n",
    "리스트 = ['intra.h', 'intra.c', 'define.h', 'run.py']\n",
    "for 변수 in 리스트:\n",
    "  split = 변수.split(\".\")\n",
    "  if (split[1] == \"h\") or (split[1] == \"c\"):\n",
    "    print(변수)"
   ]
  },
  {
   "cell_type": "code",
   "execution_count": null,
   "id": "4f92a126",
   "metadata": {},
   "outputs": [],
   "source": []
  },
  {
   "cell_type": "markdown",
   "id": "1aa31940",
   "metadata": {},
   "source": [
    "#### 161. for문과 range 구문을 사용해서 0~99까지 한 라인에 하나씩 순차적으로 출력하는 프로그램을 작성하라."
   ]
  },
  {
   "cell_type": "code",
   "execution_count": null,
   "id": "c847950a",
   "metadata": {},
   "outputs": [],
   "source": [
    "# 아래처럼 print문을 100번 칠 수는 없습니다.\n",
    "print(0)\n",
    "print(1)\n",
    "....\n",
    "print(99)"
   ]
  },
  {
   "cell_type": "code",
   "execution_count": null,
   "id": "e73655de",
   "metadata": {},
   "outputs": [],
   "source": [
    "# range문은 범위를 만들어 줍니다. 주의 할 점은 0 부터 2 까지 세 개의 데이터를 만들어줍니다.\n",
    "\n",
    ">> list(range (3))\n",
    "[0, 1, 2]"
   ]
  },
  {
   "cell_type": "code",
   "execution_count": 12,
   "id": "6532656d",
   "metadata": {},
   "outputs": [
    {
     "name": "stdout",
     "output_type": "stream",
     "text": [
      "0\n",
      "1\n",
      "2\n",
      "3\n",
      "4\n",
      "5\n",
      "6\n",
      "7\n",
      "8\n",
      "9\n",
      "10\n",
      "11\n",
      "12\n",
      "13\n",
      "14\n",
      "15\n",
      "16\n",
      "17\n",
      "18\n",
      "19\n",
      "20\n",
      "21\n",
      "22\n",
      "23\n",
      "24\n",
      "25\n",
      "26\n",
      "27\n",
      "28\n",
      "29\n",
      "30\n",
      "31\n",
      "32\n",
      "33\n",
      "34\n",
      "35\n",
      "36\n",
      "37\n",
      "38\n",
      "39\n",
      "40\n",
      "41\n",
      "42\n",
      "43\n",
      "44\n",
      "45\n",
      "46\n",
      "47\n",
      "48\n",
      "49\n",
      "50\n",
      "51\n",
      "52\n",
      "53\n",
      "54\n",
      "55\n",
      "56\n",
      "57\n",
      "58\n",
      "59\n",
      "60\n",
      "61\n",
      "62\n",
      "63\n",
      "64\n",
      "65\n",
      "66\n",
      "67\n",
      "68\n",
      "69\n",
      "70\n",
      "71\n",
      "72\n",
      "73\n",
      "74\n",
      "75\n",
      "76\n",
      "77\n",
      "78\n",
      "79\n",
      "80\n",
      "81\n",
      "82\n",
      "83\n",
      "84\n",
      "85\n",
      "86\n",
      "87\n",
      "88\n",
      "89\n",
      "90\n",
      "91\n",
      "92\n",
      "93\n",
      "94\n",
      "95\n",
      "96\n",
      "97\n",
      "98\n",
      "99\n"
     ]
    }
   ],
   "source": [
    "# range(100)은 0 부터 99까지 숫자 리스트를 만듭니다. 이를 for문과 함께 사용하면 range로 생성한 모든 숫자르 하나씩 화면에 출력합니다.\n",
    "\n",
    "for i in range(100):\n",
    "    print(i)"
   ]
  },
  {
   "cell_type": "markdown",
   "id": "cebd33a9",
   "metadata": {},
   "source": [
    "#### 162. 월드컵은 4년에 한 번 개최된다. range()를 사용하여 2002~2050년까지 중 월드컵이 개최되는 연도를 출력하라.\n",
    "\n",
    "- 2002\n",
    "- 2006\n",
    "- 2010\n",
    "- ...\n",
    "- 2042\n",
    "- 2046\n",
    "- 2050\n",
    "- 참고) range의 세번 째 파라미터는 증감폭을 결정합니다.\n",
    "\n",
    "> print(list(range(0, 10, 2)))\n",
    "\n",
    "> [0, 2, 4, 6, 8]"
   ]
  },
  {
   "cell_type": "code",
   "execution_count": null,
   "id": "c0b232db",
   "metadata": {},
   "outputs": [],
   "source": [
    "for x in range(2002, 2051, 4) :\n",
    "    print (x)"
   ]
  },
  {
   "cell_type": "markdown",
   "id": "748d0002",
   "metadata": {},
   "source": [
    "#### 163. 1부터 30까지의 숫자 중 3의 배수를 출력하라.\n",
    "\n",
    "- 3 \n",
    "- 6 \n",
    "- 9 \n",
    "- 12 \n",
    "- 15 \n",
    "- 18 \n",
    "- 21 \n",
    "- 24 \n",
    "- 27 \n",
    "- 30"
   ]
  },
  {
   "cell_type": "code",
   "execution_count": null,
   "id": "64696ec6",
   "metadata": {},
   "outputs": [],
   "source": [
    "for num in range(3, 31, 3):\n",
    "    print (num)"
   ]
  },
  {
   "cell_type": "markdown",
   "id": "e667b49d",
   "metadata": {},
   "source": [
    "#### 164. 99부터 0까지 1씩 감소하는 숫자들을, 한 라인에 하나씩 출력하라."
   ]
  },
  {
   "cell_type": "code",
   "execution_count": null,
   "id": "f9fffc8e",
   "metadata": {},
   "outputs": [],
   "source": [
    "# 뺄셈을 사용해서 원하는 결괏값을 얻어냅니다.\n",
    "for i in range(100):\n",
    "    print(99 - i)"
   ]
  },
  {
   "cell_type": "markdown",
   "id": "1b5d6c3d",
   "metadata": {},
   "source": [
    "#### 165. for문을 사용해서 아래와 같이 출력하라.\n",
    "\n",
    "- 0.0\n",
    "- 0.1\n",
    "- 0.2\n",
    "- 0.3\n",
    "- 0.4\n",
    "- 0.5\n",
    "- ...\n",
    "- 0.9"
   ]
  },
  {
   "cell_type": "code",
   "execution_count": null,
   "id": "e98653f0",
   "metadata": {},
   "outputs": [],
   "source": [
    "for num in range(10) :\n",
    "    print(num / 10, num)"
   ]
  },
  {
   "cell_type": "markdown",
   "id": "c04f2f1e",
   "metadata": {},
   "source": [
    "#### 166. 구구단 3단을 출력하라.\n",
    "\n",
    "- 3x1 = 3\n",
    "- 3x2 = 6\n",
    "- 3x3 = 9\n",
    "- 3x4 = 12\n",
    "- 3x5 = 15\n",
    "- 3x6 = 18\n",
    "- 3x7 = 21\n",
    "- 3x8 = 24\n",
    "- 3x9 = 27"
   ]
  },
  {
   "cell_type": "code",
   "execution_count": null,
   "id": "2d7b8626",
   "metadata": {},
   "outputs": [],
   "source": [
    "for i in range(1, 10) :\n",
    "    print (3, \"x\", i, \" = \", 3 * i)"
   ]
  },
  {
   "cell_type": "markdown",
   "id": "224672b1",
   "metadata": {},
   "source": [
    "#### 167. 구구단 3단을 출력하라. 단 홀수 번째만 출력한다.\n",
    "\n",
    "- 3x1 = 3\n",
    "- 3x3 = 9\n",
    "- 3x5 = 15\n",
    "- 3x7 = 21\n",
    "- 3x9 = 27"
   ]
  },
  {
   "cell_type": "code",
   "execution_count": null,
   "id": "18021e55",
   "metadata": {},
   "outputs": [],
   "source": [
    "# range(1, 10, 2)를 사용해서 홀수를 만듭니다.\n",
    "num = 3\n",
    "for i in range(1, 10, 2) :\n",
    "    print (num, \"x\", i, \" = \", num * i)"
   ]
  },
  {
   "cell_type": "code",
   "execution_count": null,
   "id": "9c34798e",
   "metadata": {},
   "outputs": [],
   "source": [
    "# 혹은 조건문을 사용해서 해결할 수도 있습니다.\n",
    "\n",
    "num = 3\n",
    "for i in range(1, 10) :\n",
    "    if i % 2 == 1 :\n",
    "        print (num, \"x\", i, \" = \", num * i)"
   ]
  },
  {
   "cell_type": "markdown",
   "id": "1749a819",
   "metadata": {},
   "source": [
    "#### 168. 1~10까지의 숫자에 대해 모두 더한 값을 출력하는 프로그램을 for 문을 사용하여 작성하라.\n",
    "\n",
    "- 합 : 55"
   ]
  },
  {
   "cell_type": "code",
   "execution_count": null,
   "id": "162c8cac",
   "metadata": {},
   "outputs": [],
   "source": [
    "# hab 이라는 변수에 0을 저장하고, for 문을 통해 모든 값에 대해 누적합니다.\n",
    "hab = 0\n",
    "for i in range(1, 11):\n",
    "    hab += i\n",
    "print (\"합 :\", hab)"
   ]
  },
  {
   "cell_type": "code",
   "execution_count": null,
   "id": "3daa8d8b",
   "metadata": {},
   "outputs": [],
   "source": [
    "# hab += i 는 아래 코드를 축약해서 작성한 것입니다.\n",
    "\n",
    "hab = hab + i"
   ]
  },
  {
   "cell_type": "markdown",
   "id": "871bece9",
   "metadata": {},
   "source": [
    "#### 169. 1~10까지의 숫자 중 모든 홀수의 합을 출력하는 프로그램을 for 문을 사용하여 작성하라.\n",
    "\n",
    "- 합: 25"
   ]
  },
  {
   "cell_type": "code",
   "execution_count": null,
   "id": "37f676b7",
   "metadata": {},
   "outputs": [],
   "source": [
    "# hab 이라는 변수에 0을 저장하고, for 문을 통해 모든 값에 대해 누적합니다. 이때 range의 세 번째 파라미터를 사용해서 range가 생성하는 수를 2씩 증가시킵니다.\n",
    "hab = 0\n",
    "for i in range(1, 11, 2):\n",
    "    hab += i\n",
    "print (\"합 :\", hab)"
   ]
  },
  {
   "cell_type": "markdown",
   "id": "afa2521d",
   "metadata": {},
   "source": [
    "#### 170. 1~10까지의 숫자를 모두 곱한 값을 출력하는 프로그램을 for 문을 사용하여 작성하라."
   ]
  },
  {
   "cell_type": "code",
   "execution_count": null,
   "id": "fae8f4f9",
   "metadata": {},
   "outputs": [],
   "source": [
    "result = 1\n",
    "for i in range(1, 11) :\n",
    "    result *= i\n",
    "print(result)\n",
    "\n",
    "# result *= i 는 아래 코드를 축약해서 작성한 것입니다.\n",
    "\n",
    "# result = result * i"
   ]
  },
  {
   "cell_type": "markdown",
   "id": "e02bd495",
   "metadata": {},
   "source": [
    "#### 171. 아래와 같이 리스트의 데이터를 출력하라. 단, for문과 range문을 사용하라.\n",
    "\n",
    "- price_list = [32100, 32150, 32000, 32500]\n",
    "- 32100\n",
    "- 32150\n",
    "- 32000\n",
    "- 32500"
   ]
  },
  {
   "cell_type": "code",
   "execution_count": null,
   "id": "c90d6bc9",
   "metadata": {},
   "outputs": [],
   "source": [
    "for i in range(4):\n",
    "    print(price_list[i])"
   ]
  },
  {
   "cell_type": "code",
   "execution_count": null,
   "id": "c485b261",
   "metadata": {},
   "outputs": [],
   "source": [
    "for i in range(len(price_list)):\n",
    "    print(price_list[i])"
   ]
  },
  {
   "cell_type": "markdown",
   "id": "2197e88f",
   "metadata": {},
   "source": [
    "#### 172. 아래와 같이 리스트의 데이터를 출력하라. 단, for문과 range문을 사용하라.\n",
    "\n",
    "- price_list = [32100, 32150, 32000, 32500]\n",
    "- 0 32100\n",
    "- 1 32150\n",
    "- 2 32000\n",
    "- 3 32500"
   ]
  },
  {
   "cell_type": "code",
   "execution_count": null,
   "id": "b638072d",
   "metadata": {},
   "outputs": [],
   "source": [
    "price_list = [32100, 32150, 32000, 32500]\n",
    "for i, data in enumerate(price_list):\n",
    "    print(i, data)"
   ]
  },
  {
   "cell_type": "markdown",
   "id": "5713c921",
   "metadata": {},
   "source": [
    "#### 173. 아래와 같이 리스트의 데이터를 출력하라. 단, for문과 range문을 사용하라.\n",
    "\n",
    "- price_list = [32100, 32150, 32000, 32500]\n",
    "- 3 32100\n",
    "- 2 32150\n",
    "- 1 32000\n",
    "- 0 32500"
   ]
  },
  {
   "cell_type": "code",
   "execution_count": null,
   "id": "d06ab794",
   "metadata": {},
   "outputs": [],
   "source": [
    "for i in range(len(price_list)):\n",
    "    print(3 - i, price_list[i])"
   ]
  },
  {
   "cell_type": "code",
   "execution_count": null,
   "id": "bc5aca1a",
   "metadata": {},
   "outputs": [],
   "source": [
    "# 3이라는 숫자보다는 일반적인 형태로 아래와 같이 코딩하는게 좋습니다.\n",
    "\n",
    "for i in range(len(price_list)):\n",
    "    print((len(price_list) - 1) - i, price_list[i])"
   ]
  },
  {
   "cell_type": "markdown",
   "id": "40721405",
   "metadata": {},
   "source": [
    "#### 174. 아래와 같이 리스트의 데이터를 출력하라. 단, for문과 range문을 사용하라.\n",
    "\n",
    "- price_list = [32100, 32150, 32000, 32500]\n",
    "- 100 32150\n",
    "- 110 32000\n",
    "- 120 32500"
   ]
  },
  {
   "cell_type": "code",
   "execution_count": null,
   "id": "cc03f4f1",
   "metadata": {},
   "outputs": [],
   "source": [
    "for i in range(1, 4):\n",
    "    print(90 + 10 * i, price_list[i])"
   ]
  },
  {
   "cell_type": "markdown",
   "id": "1fc673a2",
   "metadata": {},
   "source": [
    "#### 175. my_list를 아래와 같이 출력하라.\n",
    "\n",
    "- my_list = [\"가\", \"나\", \"다\", \"라\"]\n",
    "- 가 나\n",
    "- 나 다\n",
    "- 다 라"
   ]
  },
  {
   "cell_type": "code",
   "execution_count": null,
   "id": "ef0bb735",
   "metadata": {},
   "outputs": [],
   "source": [
    "# 어렵다면 한단계씩 생각해 봅시다. for문을 사용하지 않고 인덱싱만을 사용해서 코드를 작성해보면 인덱스간의 규칙관계가 눈에 들어옵니다. 같은 행에 있는 두 개의 데이터는 인덱스가 +1 차이납니다. 또한 행이 증가할 때마다 인덱스가 +1 씩 증가합니다.\n",
    "print(my_list[0], my_list[1])\n",
    "print(my_list[1], my_list[2])\n",
    "print(my_list[2], my_list[3])"
   ]
  },
  {
   "cell_type": "code",
   "execution_count": null,
   "id": "d091ada4",
   "metadata": {},
   "outputs": [],
   "source": [
    "# 분석한 규칙을 바탕으로 반복문을 작성합시다. 아래는 첫 열 \"가 나 다\" 를 한 라인에 하나씩 출력하는 코드입니다. for 문이 인덱스를 0, 1, 2 차례로 바인딩하고 인덱싱을 사용해 값을 출력합니다.\n",
    "\n",
    "for i in [0, 1, 2]:\n",
    "    print(my_list[i])"
   ]
  },
  {
   "cell_type": "code",
   "execution_count": null,
   "id": "81230e81",
   "metadata": {},
   "outputs": [],
   "source": [
    "# 한 행에 두 개의 데이터를 출력하고 싶기 때문에 이전 코드의 print 문에 출력하고 싶은 데이터를 추가합니다. 같은 행의 두 데이터는 인덱스 차이가 +1 이라는 것을 잊지마세요. i가 0일 때는 0, 1 위치의 값이 출력됩니다. i가 1일 때는 1, 2 위치의 값이 출력됩니다. * i가 2일 때는 2, 3 위치의 값이 출력됩니다.\n",
    "\n",
    "for i in [0, 1, 2]:\n",
    "    print(my_list[i], my_list[i+1])"
   ]
  },
  {
   "cell_type": "code",
   "execution_count": null,
   "id": "43e6ae8e",
   "metadata": {},
   "outputs": [],
   "source": [
    "# 위의 코드를 사용해도 원하는 출력값을 얻을 수 있지만 아래는 코드를 보다 일반적인 형태로 변경했습니다. len 함수를 사용한 것을 눈여겨 보세요.\n",
    "\n",
    "for i in range( len(my_list) - 1 ) :\n",
    "  print(my_list[i], my_list[i+1])"
   ]
  },
  {
   "cell_type": "code",
   "execution_count": null,
   "id": "a7b0518b",
   "metadata": {},
   "outputs": [],
   "source": [
    "# 아래와 같이 작성해도 됩니다. 인덱스를 갖고 노는 겁니다. for문을 단계별로 풀어 써가며 확인해보세요.\n",
    "\n",
    "for i in range( 1, len(my_list) ) :\n",
    "  print(my_list[i-1], my_list[i])"
   ]
  },
  {
   "cell_type": "markdown",
   "id": "7f301e43",
   "metadata": {},
   "source": [
    "#### 176. 리스트를 아래와 같이 출력하라.\n",
    "\n",
    "- my_list = [\"가\", \"나\", \"다\", \"라\", \"마\"]\n",
    "- 가 나 다\n",
    "- 나 다 라\n",
    "- 다 라 마"
   ]
  },
  {
   "cell_type": "code",
   "execution_count": null,
   "id": "e6aa9a67",
   "metadata": {},
   "outputs": [],
   "source": [
    "# 인덱싱을 사용해서 코드를 작성해보면 인덱스간의 규칙관계가 눈에 들어옵니다. 같은 행에 있는 두 개의 데이터는 인덱스가 +1 차이납니다. 또한 행이 증가할 때마다 인덱스가 +1 씩 증가합니다. 045번 문제와 다른점은 한 행에 출력되는 데이터가 3개라는 것입니다.\n",
    "print(my_list[0], my_list[1], my_list[2])\n",
    "print(my_list[1], my_list[2], my_list[3])\n",
    "print(my_list[2], my_list[3], my_list[4])"
   ]
  },
  {
   "cell_type": "code",
   "execution_count": null,
   "id": "8b26a3c0",
   "metadata": {},
   "outputs": [],
   "source": [
    "# for문내의 print 문에 출력하고 싶은 값의 위치를 나열합니다. i가 0일 때는 0, 1, 2 위치의 값이 출력됩니다. i가 1일 때는 1, 2, 3 위치의 값이 출력됩니다. * i가 2일 때는 2, 3, 4 위치의 값이 출력됩니다.\n",
    "\n",
    "for i in [0, 1, 2]:\n",
    "    print(my_list[i], my_list[i+1], my_list[i+2])"
   ]
  },
  {
   "cell_type": "code",
   "execution_count": null,
   "id": "a4e56574",
   "metadata": {},
   "outputs": [],
   "source": [
    "# 보다 일반적인 형태로 코드를 변경해 봅시다. 아래 세 개의 코드는 모두 동일한 결과를 출력합니다. 인덱스를 만들어 내는 것과, 인덱싱의 코드가 변하는 것을 눈여겨 보세요.\n",
    "\n",
    "for i in range( len(my_list) - 2 ):\n",
    "    print(my_list[i], my_list[i+1], my_list[i+2])"
   ]
  },
  {
   "cell_type": "code",
   "execution_count": null,
   "id": "3b5dc13d",
   "metadata": {},
   "outputs": [],
   "source": [
    "for i in range( 1, len(my_list) - 1 ):\n",
    "    print(my_list[i-1], my_list[i], my_list[i+1])"
   ]
  },
  {
   "cell_type": "code",
   "execution_count": null,
   "id": "3764935a",
   "metadata": {},
   "outputs": [],
   "source": [
    "for i in range( 2, len(my_list) ):\n",
    "    print(my_list[i-2], my_list[i-1], my_list[i])"
   ]
  },
  {
   "cell_type": "markdown",
   "id": "26940800",
   "metadata": {},
   "source": [
    "#### 177. 복문과 range 함수를 사용해서 my_list를 아래와 같이 출력하라.\n",
    "\n",
    "- my_list = [\"가\", \"나\", \"다\", \"라\"]\n",
    "- 라 다\n",
    "- 다 나\n",
    "- 나 가"
   ]
  },
  {
   "cell_type": "code",
   "execution_count": null,
   "id": "eadc51c6",
   "metadata": {},
   "outputs": [],
   "source": [
    "# 어렵다면 우선은 for문을 사용하지 않고 아래와 같이 인덱싱을 사용해서 코드를 작성합니다. 규칙이 눈에 들어오나요?\n",
    "print(my_list[3], my_list[2])\n",
    "print(my_list[2], my_list[1])\n",
    "print(my_list[1], my_list[0])"
   ]
  },
  {
   "cell_type": "code",
   "execution_count": null,
   "id": "5ee9d81b",
   "metadata": {},
   "outputs": [],
   "source": [
    "# 각 라인마다 인덱스가 1씩 감소하고, 같은 라인에서 우측 인덱스는 좌측 보다 1 작다고 분석할 수 있습니다. 이를 코드로 옮기면 아래와 같습니다.\n",
    "\n",
    "for i in [3, 2, 1] :\n",
    "    print(my_list[i], my_list[i-1])"
   ]
  },
  {
   "cell_type": "code",
   "execution_count": null,
   "id": "a3457c7f",
   "metadata": {},
   "outputs": [],
   "source": [
    "# 인덱스를 만들어내는 방법에 따라 호출하는 코드가 달라집니다. 우변을 기준으로 인덱스를 만들고 좌변을 접근할 때는 +1 이 필요합니다.\n",
    "\n",
    "for i in [2, 1, 0] :\n",
    "    print(my_list[i+1], my_list[i])"
   ]
  },
  {
   "cell_type": "code",
   "execution_count": null,
   "id": "b87793bb",
   "metadata": {},
   "outputs": [],
   "source": [
    "for i in [0, 1, 2] :\n",
    "    print(my_list[3 - i], my_list[2 - i])"
   ]
  },
  {
   "cell_type": "code",
   "execution_count": null,
   "id": "1e149035",
   "metadata": {},
   "outputs": [],
   "source": [
    "# 일반적인 형태로 코드를 수정하면 아래와 같습니다.\n",
    "\n",
    "for i in range(len(my_list) - 1, 0, -1):\n",
    "    print(my_list[i], my_list[i-1])"
   ]
  },
  {
   "cell_type": "code",
   "execution_count": null,
   "id": "0ef02117",
   "metadata": {},
   "outputs": [],
   "source": [
    "# 인덱스를 만들어내는 방법에 따라 답은 여러개가 될 수 있습니다.\n",
    "\n",
    "for i in range(len(my_list) - 1):\n",
    "    print(my_list[len(my_list) - 1 - i], my_list[len(my_list) - 2 - i])"
   ]
  },
  {
   "cell_type": "markdown",
   "id": "81013de2",
   "metadata": {},
   "source": [
    "#### 178. 리스트에는 네 개의 정수가 저장되어 있다. 각각의 데이터에 대해서 자신과 우측값과의 차분값을 화면에 출력하라.\n",
    "\n",
    "- my_list = [100, 200, 400, 800]\n",
    "- 예를들어 100을 기준으로 우측에 위치한 200과의 차분 값를 화면에 출력하고, 200을 기준으로 우측에 위치한 400과의 차분값을 화면에 출력한다. 이어서 400을 기준으로 우측에 위치한 800과의 차분값을 화면에 출력한다.\n",
    "\n",
    "- 100\n",
    "- 200\n",
    "- 400"
   ]
  },
  {
   "cell_type": "code",
   "execution_count": null,
   "id": "ccdaa311",
   "metadata": {},
   "outputs": [],
   "source": [
    "# 한 번에 코드를 작성하기 어렵다면 print 함수와 인덱싱만으로 결과를 표현해봅시다.\n",
    "print(abs(my_list[1] - my_list[0]))\n",
    "print(abs(my_list[2] - my_list[1]))\n",
    "print(abs(my_list[3] - my_list[2]))"
   ]
  },
  {
   "cell_type": "code",
   "execution_count": null,
   "id": "7b592940",
   "metadata": {},
   "outputs": [],
   "source": [
    "# 인덱스의 관계를 파악했다면 기준으로 사용할 인덱스를 결정합니다. 이번에는 우측에 있는 인덱스를 활용해서 for문을 작성해 보겠습니다.\n",
    "\n",
    "for i in [0, 1, 2]:\n",
    "    print(abs(my_list[i+1] - my_list[i]))"
   ]
  },
  {
   "cell_type": "code",
   "execution_count": null,
   "id": "a2b5db98",
   "metadata": {},
   "outputs": [],
   "source": [
    "# 다음으로 코드를 다듬어 줍니다.\n",
    "\n",
    "for i in range(len(my_list) - 1):\n",
    "    print(abs(my_list[i+1] - my_list[i]))"
   ]
  },
  {
   "cell_type": "markdown",
   "id": "1cb3d280",
   "metadata": {},
   "source": [
    "#### 179. 리스트에는 6일 간의 종가 데이터가 저장되어 있다. 종가 데이터의 3일 이동 평균을 계산하고 이를 화면에 출력하라.\n",
    "\n",
    "- my_list = [100, 200, 400, 800, 1000, 1300]\n",
    "- 첫 번째 줄에는 100, 200, 400의 평균값이 출력된다. 두 번째 줄에는 200, 400, 800의 평균값이 출력된다. 같은 방식으로 나머지 데이터의 평균을 출력한다.\n",
    "\n",
    "- 233.33333333333334\n",
    "- 466.6666666666667\n",
    "- 733.3333333333334\n",
    "- 1033.3333333333333"
   ]
  },
  {
   "cell_type": "code",
   "execution_count": null,
   "id": "803a1bdc",
   "metadata": {},
   "outputs": [],
   "source": [
    "# print 함수와 인덱싱만으로 결과를 표현해봅니다.\n",
    "print(abs(my_list[0] + my_list[1] + my_list[2])/3)\n",
    "print(abs(my_list[1] + my_list[2] + my_list[3])/3)\n",
    "print(abs(my_list[2] + my_list[3] + my_list[4])/3)\n",
    "print(abs(my_list[3] + my_list[4] + my_list[5])/3)"
   ]
  },
  {
   "cell_type": "code",
   "execution_count": null,
   "id": "7e316757",
   "metadata": {},
   "outputs": [],
   "source": [
    "# 인덱스 간의 관계를 파악했다면 기준으로 사용할 인덱스를 결정합니다. 이번에는 가운데에 있는 인덱스를 활용해서 for문을 작성해 보겠습니다.\n",
    "\n",
    "for i in [1, 2, 3, 4]:\n",
    "    print(abs(my_list[i-1] + my_list[i] + my_list[i+1]) / 3)"
   ]
  },
  {
   "cell_type": "code",
   "execution_count": null,
   "id": "79892490",
   "metadata": {},
   "outputs": [],
   "source": [
    "# 다음으로 코드를 다듬어 줍니다.\n",
    "\n",
    "for i in range(1, len(my_list) - 1):\n",
    "    print(abs(my_list[i-1] + my_list[i] + my_list[i+1]) / 3)"
   ]
  },
  {
   "cell_type": "markdown",
   "id": "1f897e74",
   "metadata": {},
   "source": [
    "#### 180. 리스트에 5일간의 저가, 고가 정보가 저장돼 있다. 고가와 저가의 차를 변동폭이라고 정의할 때, low, high 두 개의 리스트를 사용해서 5일간의 변동폭을 volatility 리스트에 저장하라.\n",
    "\n",
    "- low_prices  = [100, 200, 400, 800, 1000]\n",
    "- high_prices = [150, 300, 430, 880, 1000]"
   ]
  },
  {
   "cell_type": "code",
   "execution_count": null,
   "id": "b62fb738",
   "metadata": {},
   "outputs": [],
   "source": [
    "volatility = []\n",
    "for i in range(len(low_prices)) :\n",
    "    volatility.append(high_prices[i] - low_prices[i])"
   ]
  },
  {
   "cell_type": "markdown",
   "id": "169d15f1",
   "metadata": {},
   "source": [
    "#### 181. 아래 표에서 하나의 행을 하나의 리스트로, 총 3개의 리스트를 갖는 이차원 리스트 apart를 정의하라.\n",
    "\n",
    "- 101호 |\t102호\n",
    "- 201호 |\t202호\n",
    "- 301호 |\t302호"
   ]
  },
  {
   "cell_type": "code",
   "execution_count": null,
   "id": "662fb84e",
   "metadata": {},
   "outputs": [],
   "source": [
    "apart = [ [\"101호\", \"102호\"], [\"201호\", \"202호\"], [\"301호\", \"302호\"] "
   ]
  },
  {
   "cell_type": "markdown",
   "id": "7f0000bf",
   "metadata": {},
   "source": [
    "#### 182. 아래 표에서 하나의 열을 하나의 리스트로, 총 2개의 리스트를 갖는 이차원 리스트 stock을 정의하라.\n",
    "\n",
    "- 시가\t종가\n",
    "- 100\t80\n",
    "- 200\t210\n",
    "- 300\t330"
   ]
  },
  {
   "cell_type": "code",
   "execution_count": null,
   "id": "fe0d2a57",
   "metadata": {},
   "outputs": [],
   "source": [
    "stock = [ [\"시가\", 100, 200, 300], [\"종가\", 80, 210, 330] ]"
   ]
  },
  {
   "cell_type": "markdown",
   "id": "f5a295d6",
   "metadata": {},
   "source": [
    "#### 183. 아래 표를 stock 이름의 딕셔너리로 표현하라.시가를 key로 저장하고, 나머지 같은 열의 데이터를 리스트로 저장해서 value로 저장한다. 종가 역시 key로 저장하고 나머지 같은 열의 데이터를 리스트로 저장해서 value로 저장한다.\n",
    "\n",
    "- 시가\t종가\n",
    "- 100\t80\n",
    "- 200\t210\n",
    "- 300\t330"
   ]
  },
  {
   "cell_type": "code",
   "execution_count": null,
   "id": "411af977",
   "metadata": {},
   "outputs": [],
   "source": [
    "stock = {\"시가\": [100, 200, 300], \"종가\": [80, 210, 330] }"
   ]
  },
  {
   "cell_type": "markdown",
   "id": "b2161b30",
   "metadata": {},
   "source": [
    "#### 184. 아래 표를 stock 이라는 이름의 딕셔너리로 표현하라. 날짜를 key로 저장하고, 나머지 같은 행의 데이터를 리스트로 저장해서 value로 저장한다. 첫 열이 날짜이다.\n",
    "\n",
    "- 10/10\t80\t110\t70\t90\n",
    "- 10/11\t210\t230\t190\t200"
   ]
  },
  {
   "cell_type": "code",
   "execution_count": null,
   "id": "f7241bed",
   "metadata": {},
   "outputs": [],
   "source": [
    "stock = {\"10/10\": [80, 110, 70, 90], \"10/11\": [210, 230, 190, 200] }"
   ]
  },
  {
   "cell_type": "markdown",
   "id": "9a9134f3",
   "metadata": {},
   "source": [
    "#### 185. 리스트에 저장된 데이터를 아래와 같이 출력하라.\n",
    "\n",
    "- apart = [ [101, 102], [201, 202], [301, 302] ]\n",
    "- 101 호\n",
    "- 102 호\n",
    "- 201 호\n",
    "- 202 호\n",
    "- 301 호\n",
    "- 302 호"
   ]
  },
  {
   "cell_type": "code",
   "execution_count": null,
   "id": "5f20e71f",
   "metadata": {},
   "outputs": [],
   "source": [
    "for row in apart:\n",
    "    for col in row:\n",
    "        print(col, \"호\")"
   ]
  },
  {
   "cell_type": "markdown",
   "id": "5319e3ac",
   "metadata": {},
   "source": [
    "#### 186. 리스트에 저장된 데이터를 아래와 같이 출력하라.\n",
    "\n",
    "- apart = [ [101, 102], [201, 202], [301, 302] ]\n",
    "- 301 호\n",
    "- 302 호\n",
    "- 201 호\n",
    "- 202 호\n",
    "- 101 호\n",
    "- 102 호"
   ]
  },
  {
   "cell_type": "code",
   "execution_count": null,
   "id": "2e8ba2f4",
   "metadata": {},
   "outputs": [],
   "source": [
    "for row in apart[::-1]:\n",
    "    for col in row:\n",
    "        print(col, \"호\")"
   ]
  },
  {
   "cell_type": "markdown",
   "id": "af928ed3",
   "metadata": {},
   "source": [
    "#### 187. 리스트에 저장된 데이터를 아래와 같이 출력하라.\n",
    "\n",
    "- apart = [ [101, 102], [201, 202], [301, 302] ]\n",
    "- 302 호\n",
    "- 301 호\n",
    "- 202 호\n",
    "- 201 호\n",
    "- 102 호\n",
    "- 101 호"
   ]
  },
  {
   "cell_type": "code",
   "execution_count": null,
   "id": "76e2a383",
   "metadata": {},
   "outputs": [],
   "source": [
    "for row in apart[::-1]:\n",
    "    for col in row[::-1]:\n",
    "        print(col, \"호\")"
   ]
  },
  {
   "cell_type": "markdown",
   "id": "1a507329",
   "metadata": {},
   "source": [
    "#### 188. 리스트에 저장된 데이터를 아래와 같이 출력하라.\n",
    "\n",
    "- apart = [ [101, 102], [201, 202], [301, 302] ]\n",
    "- 101 호\n",
    "- -----\n",
    "- 102 호\n",
    "- -----\n",
    "- 201 호\n",
    "- -----\n",
    "- 202 호\n",
    "- -----\n",
    "- 301 호\n",
    "- -----\n",
    "- 302 호\n",
    "- -----"
   ]
  },
  {
   "cell_type": "code",
   "execution_count": null,
   "id": "58f92f6b",
   "metadata": {},
   "outputs": [],
   "source": [
    "for row in apart:\n",
    "    for col in row:\n",
    "        print(col, \"호\")\n",
    "        print(\"-\" * 5)"
   ]
  },
  {
   "cell_type": "markdown",
   "id": "33b97b65",
   "metadata": {},
   "source": [
    "#### 189. 리스트에 저장된 데이터를 아래와 같이 출력하라.\n",
    "\n",
    "- apart = [ [101, 102], [201, 202], [301, 302] ]\n",
    "- 101 호\n",
    "- 102 호\n",
    "- -----\n",
    "- 201 호\n",
    "- 202 호\n",
    "- -----\n",
    "- 301 호\n",
    "- 302 호\n",
    "- -----"
   ]
  },
  {
   "cell_type": "code",
   "execution_count": null,
   "id": "db4128f5",
   "metadata": {},
   "outputs": [],
   "source": [
    "for row in apart:\n",
    "    for col in row:\n",
    "        print(col, \"호\")\n",
    "    print(\"-----\")"
   ]
  },
  {
   "cell_type": "markdown",
   "id": "792ddcf0",
   "metadata": {},
   "source": [
    "#### 190. 리스트에 저장된 데이터를 아래와 같이 출력하라.\n",
    "\n",
    "- apart = [ [101, 102], [201, 202], [301, 302] ]\n",
    "- 101 호\n",
    "- 102 호\n",
    "- 201 호\n",
    "- 202 호\n",
    "- 301 호\n",
    "- 302 호\n",
    "- -----"
   ]
  },
  {
   "cell_type": "code",
   "execution_count": null,
   "id": "e9454246",
   "metadata": {},
   "outputs": [],
   "source": [
    "for row in apart:\n",
    "    for col in row:\n",
    "        print(col, \"호\")\n",
    "print(\"-\" * 5)"
   ]
  },
  {
   "cell_type": "markdown",
   "id": "d13728e8",
   "metadata": {},
   "source": [
    "#### 191. data에는 매수한 종목들의 OHLC (open/high/low/close) 가격 정보가 바인딩 되어있다.\n",
    "\n",
    "data = [\n",
    "    [ 2000,  3050,  2050,  1980],\n",
    "    [ 7500,  2050,  2050,  1980],\n",
    "    [15450, 15050, 15550, 14900]\n",
    "]\n",
    "#### 수수료를 0.014 %로 가정할 때, 각 가격에 수수료를 포함한 가격을 한라인에 하나씩 출력하라.\n",
    "\n",
    "- 2000.28\n",
    "- 3050.427\n",
    "- 2050.2870000000003\n",
    "- ..."
   ]
  },
  {
   "cell_type": "code",
   "execution_count": null,
   "id": "013ee1e4",
   "metadata": {},
   "outputs": [],
   "source": [
    "for line in data:\n",
    "    for column in line:\n",
    "        print(column * 1.00014)"
   ]
  },
  {
   "cell_type": "markdown",
   "id": "dd638bd5",
   "metadata": {},
   "source": [
    "#### 192. 191번의 출력 결과에 행단위로 \"----\" 구분자를 추가하라.\n",
    "\n",
    "- 2000.28\n",
    "- 3050.427\n",
    "- 2050.2870000000003\n",
    "- 1980.2772\n",
    "- ----\n",
    "- 7501.05\n",
    "- 2050.2870000000003\n",
    "- 2050.2870000000003\n",
    "- 1980.2772\n",
    "- ----\n",
    "- 15452.163\n",
    "- 15052.107\n",
    "- 15552.177\n",
    "- 14902.086000000001\n",
    "- ----"
   ]
  },
  {
   "cell_type": "code",
   "execution_count": null,
   "id": "d998d2c1",
   "metadata": {},
   "outputs": [],
   "source": [
    "for line in data:\n",
    "    for column in line:\n",
    "        print(column * 1.00014)\n",
    "    print(\"----\")"
   ]
  },
  {
   "cell_type": "markdown",
   "id": "66407b9f",
   "metadata": {},
   "source": [
    "#### 193. 192 번 문제의 결과값을 result 이름의 리스트에 1차원 배열로 저장하라.\n",
    "\n",
    "> print(result)\n",
    "\n",
    "> [2000.28, 3050.427, 2050.2870000000003, 1980.2772, 7501.05, 2050.2870000000003, 2050.2870000000003, ...]"
   ]
  },
  {
   "cell_type": "code",
   "execution_count": null,
   "id": "9d248f95",
   "metadata": {},
   "outputs": [],
   "source": [
    "result = []\n",
    "for line in data:\n",
    "    for column in line:\n",
    "        result.append(column * 1.00014)\n",
    "print(result)"
   ]
  },
  {
   "cell_type": "markdown",
   "id": "a939cda0",
   "metadata": {},
   "source": [
    "#### 194. 191번 문제의 결괏값을 result 이름의 리스트에 2차원 배열로 저장하라. 저장 포맷은 아래와 같다. 각 행에 대한 데이터끼리 리스트에 저장되어야 한다.\n",
    "\n",
    "> print(result)\n",
    "- [\n",
    " [2000.28, 3050.427, 2050.2870000000003, 1980.2772],\n",
    " [7501.05, 2050.2870000000003, 2050.2870000000003, 1980.2772],\n",
    " [15452.163, 15052.107, 15552.177, 14902.086000000001]\n",
    "]"
   ]
  },
  {
   "cell_type": "code",
   "execution_count": null,
   "id": "87879703",
   "metadata": {},
   "outputs": [],
   "source": [
    "result = []\n",
    "for line in data:\n",
    "    sub = []\n",
    "    for column in line:\n",
    "        sub.append(column * 1.00014)\n",
    "    result.append(sub)\n",
    "print(result)"
   ]
  },
  {
   "cell_type": "markdown",
   "id": "0477f55f",
   "metadata": {},
   "source": [
    "#### 195. ohlc 리스트에는 시가(open), 고가 (high), 저가 (low) , 종가(close)가 날짜별로 저장돼 있다. 화면에 종가데이터를 출력하라.\n",
    "\n",
    "- ohlc = [[\"open\", \"high\", \"low\", \"close\"],\n",
    "        [100, 110, 70, 100],\n",
    "        [200, 210, 180, 190],\n",
    "        [300, 310, 300, 310]]\n",
    "- 100\n",
    "- 190\n",
    "- 310"
   ]
  },
  {
   "cell_type": "code",
   "execution_count": null,
   "id": "d62d0c62",
   "metadata": {},
   "outputs": [],
   "source": [
    "for row in ohlc[1:]:\n",
    "    print(row[3])"
   ]
  },
  {
   "cell_type": "markdown",
   "id": "19d7d7f6",
   "metadata": {},
   "source": [
    "#### 196. ohlc 리스트에는 시가(open), 고가 (high), 저가 (low) , 종가(close)가 날짜별로 저장돼 있다. 종가가 150원보다 큰경우에만 종가를 출력하라.\n",
    "\n",
    "- ohlc = [[\"open\", \"high\", \"low\", \"close\"],\n",
    "        [100, 110, 70, 100],\n",
    "        [200, 210, 180, 190],\n",
    "        [300, 310, 300, 310]]\n",
    "- 190\n",
    "- 310"
   ]
  },
  {
   "cell_type": "code",
   "execution_count": null,
   "id": "63acf167",
   "metadata": {},
   "outputs": [],
   "source": [
    "for row in ohlc[1:]:\n",
    "    if (row[3] > 150):\n",
    "        print(row[3])"
   ]
  },
  {
   "cell_type": "markdown",
   "id": "4c367697",
   "metadata": {},
   "source": [
    "#### 197. ohlc 리스트에는 시가(open), 고가 (high), 저가 (low) , 종가(close)가 날짜별로 저장돼 있다. 종가가 시가 보다 크거나 같은 경우에만 종가를 출력하라.\n",
    "\n",
    "- ohlc = [[\"open\", \"high\", \"low\", \"close\"],\n",
    "        [100, 110, 70, 100],\n",
    "        [200, 210, 180, 190],\n",
    "        [300, 310, 300, 310]]\n",
    "- 100\n",
    "- 310"
   ]
  },
  {
   "cell_type": "code",
   "execution_count": null,
   "id": "94addac7",
   "metadata": {},
   "outputs": [],
   "source": [
    "for row in ohlc[1:]:\n",
    "    if (row[3] >= row[0]):\n",
    "        print(row[3])"
   ]
  },
  {
   "cell_type": "markdown",
   "id": "98508056",
   "metadata": {},
   "source": [
    "#### 198. ohlc 리스트에는 시가(open), 고가 (high), 저가 (low) , 종가(close)가 날짜별로 저장돼 있다. 고가와 저가의 차이를 변동폭으로 정의할 때 변동폭을 volatility 이름의 리스트에 저장하라.\n",
    "\n",
    "> ohlc = [[\"open\", \"high\", \"low\", \"close\"],\n",
    "        [100, 110, 70, 100],\n",
    "        [200, 210, 180, 190],\n",
    "        [300, 310, 300, 310]]\n",
    "\n",
    "> print(volatility)\n",
    "\n",
    ">[40, 30, 10]"
   ]
  },
  {
   "cell_type": "code",
   "execution_count": null,
   "id": "1d5b8bbc",
   "metadata": {},
   "outputs": [],
   "source": [
    "volatility = []\n",
    "for row in ohlc[1:]:\n",
    "    volatility.append(row[1]-row[2])"
   ]
  },
  {
   "cell_type": "code",
   "execution_count": null,
   "id": "72da6f62",
   "metadata": {},
   "outputs": [],
   "source": [
    "# range 구문을 사용해서도 문제를 풀 수 있습니다.\n",
    "\n",
    "volatility = []\n",
    "for i in range(1, len(ohlc)):\n",
    "    volatility.append(ohlc[i][1]-ohlc[i][2])\n",
    "print(volatility)"
   ]
  },
  {
   "cell_type": "markdown",
   "id": "4b51b8f4",
   "metadata": {},
   "source": [
    "#### 199. 리스트에는 3일 간의 ohlc 데이터가 저장돼 있다. 종가가 시가보다 높은 날의 변동성 (고가 - 저가)을 화면에 출력하라.\n",
    "\n",
    "- ohlc = [[\"open\", \"high\", \"low\", \"close\"],\n",
    "        [100, 110, 70, 100],\n",
    "        [200, 210, 180, 190],\n",
    "        [300, 310, 300, 310]]\n",
    "- 종가가 시가보다 높은 거래일의 OHLC는 [300, 310, 300, 310] 이다. 따라서 이 거래일의 변동성은 10 (310 - 300)이다.\n",
    "\n",
    "- 10"
   ]
  },
  {
   "cell_type": "code",
   "execution_count": null,
   "id": "2ce59f13",
   "metadata": {},
   "outputs": [],
   "source": [
    "for row in ohlc[1:]:\n",
    "    if row[3] > row[0]:\n",
    "        print(row[1]-row[2])"
   ]
  },
  {
   "cell_type": "markdown",
   "id": "69b858b8",
   "metadata": {},
   "source": [
    "#### 200. 리스트에는 3일 간의 ohlc 데이터가 저장돼 있다. 시가에 매수해서 종가에 매도 했을 경우 총 수익금을 계산하라.\n",
    "\n",
    "- ohlc = [[\"open\", \"high\", \"low\", \"close\"],\n",
    "        [100, 110, 70, 100],\n",
    "        [200, 210, 180, 190],\n",
    "        [300, 310, 300, 310]]\n",
    "- 1일차 수익 0원 (100 - 100)\n",
    "- 2일차 수익 -10원 (190 - 200)\n",
    "- 3일차 수익 10원 (310 - 300) 이다.\n",
    "\n",
    "- 0"
   ]
  },
  {
   "cell_type": "code",
   "execution_count": null,
   "id": "c673d682",
   "metadata": {},
   "outputs": [],
   "source": [
    "profit = 0\n",
    "for row in ohlc[1:]:\n",
    "    profit += (row[3] - row[0])\n",
    "풀이 영상"
   ]
  }
 ],
 "metadata": {
  "kernelspec": {
   "display_name": "Python 3 (ipykernel)",
   "language": "python",
   "name": "python3"
  },
  "language_info": {
   "codemirror_mode": {
    "name": "ipython",
    "version": 3
   },
   "file_extension": ".py",
   "mimetype": "text/x-python",
   "name": "python",
   "nbconvert_exporter": "python",
   "pygments_lexer": "ipython3",
   "version": "3.9.7"
  }
 },
 "nbformat": 4,
 "nbformat_minor": 5
}
